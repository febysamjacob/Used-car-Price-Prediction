{
 "cells": [
  {
   "cell_type": "code",
   "execution_count": 1,
   "metadata": {},
   "outputs": [],
   "source": [
    "import pandas as pd\n",
    "import numpy as np\n",
    "import matplotlib.pyplot as plt\n",
    "import seaborn as sns\n",
    "%matplotlib inline\n",
    "import matplotlib as mpl\n",
    "import matplotlib.dates as md \n",
    "import statsmodels.api as sm\n",
    "from sklearn.model_selection import train_test_split\n",
    "from sklearn.linear_model import LinearRegression\n",
    "from statsmodels.stats.outliers_influence import variance_inflation_factor \n",
    "from sklearn.model_selection import cross_val_score"
   ]
  },
  {
   "cell_type": "code",
   "execution_count": 2,
   "metadata": {},
   "outputs": [
    {
     "data": {
      "text/html": [
       "<div>\n",
       "<style scoped>\n",
       "    .dataframe tbody tr th:only-of-type {\n",
       "        vertical-align: middle;\n",
       "    }\n",
       "\n",
       "    .dataframe tbody tr th {\n",
       "        vertical-align: top;\n",
       "    }\n",
       "\n",
       "    .dataframe thead th {\n",
       "        text-align: right;\n",
       "    }\n",
       "</style>\n",
       "<table border=\"1\" class=\"dataframe\">\n",
       "  <thead>\n",
       "    <tr style=\"text-align: right;\">\n",
       "      <th></th>\n",
       "      <th>model</th>\n",
       "      <th>Manufacture</th>\n",
       "      <th>transmission</th>\n",
       "      <th>fuelType</th>\n",
       "      <th>year</th>\n",
       "      <th>tax</th>\n",
       "      <th>mpg</th>\n",
       "      <th>engineSize</th>\n",
       "      <th>mileage</th>\n",
       "      <th>price</th>\n",
       "    </tr>\n",
       "  </thead>\n",
       "  <tbody>\n",
       "    <tr>\n",
       "      <th>0</th>\n",
       "      <td>SLK</td>\n",
       "      <td>Mercedes</td>\n",
       "      <td>Automatic</td>\n",
       "      <td>Petrol</td>\n",
       "      <td>2005</td>\n",
       "      <td>325</td>\n",
       "      <td>32.1</td>\n",
       "      <td>1.8</td>\n",
       "      <td>63000</td>\n",
       "      <td>5200</td>\n",
       "    </tr>\n",
       "    <tr>\n",
       "      <th>1</th>\n",
       "      <td>S Class</td>\n",
       "      <td>Mercedes</td>\n",
       "      <td>Automatic</td>\n",
       "      <td>Hybrid</td>\n",
       "      <td>2017</td>\n",
       "      <td>20</td>\n",
       "      <td>61.4</td>\n",
       "      <td>2.1</td>\n",
       "      <td>27000</td>\n",
       "      <td>34948</td>\n",
       "    </tr>\n",
       "    <tr>\n",
       "      <th>2</th>\n",
       "      <td>SL CLASS</td>\n",
       "      <td>Mercedes</td>\n",
       "      <td>Automatic</td>\n",
       "      <td>Petrol</td>\n",
       "      <td>2016</td>\n",
       "      <td>555</td>\n",
       "      <td>28.0</td>\n",
       "      <td>5.5</td>\n",
       "      <td>6200</td>\n",
       "      <td>49948</td>\n",
       "    </tr>\n",
       "    <tr>\n",
       "      <th>3</th>\n",
       "      <td>G Class</td>\n",
       "      <td>Mercedes</td>\n",
       "      <td>Automatic</td>\n",
       "      <td>Petrol</td>\n",
       "      <td>2016</td>\n",
       "      <td>325</td>\n",
       "      <td>30.4</td>\n",
       "      <td>4.0</td>\n",
       "      <td>16000</td>\n",
       "      <td>61948</td>\n",
       "    </tr>\n",
       "    <tr>\n",
       "      <th>4</th>\n",
       "      <td>G Class</td>\n",
       "      <td>Mercedes</td>\n",
       "      <td>Automatic</td>\n",
       "      <td>Petrol</td>\n",
       "      <td>2016</td>\n",
       "      <td>325</td>\n",
       "      <td>30.1</td>\n",
       "      <td>4.0</td>\n",
       "      <td>4000</td>\n",
       "      <td>73948</td>\n",
       "    </tr>\n",
       "  </tbody>\n",
       "</table>\n",
       "</div>"
      ],
      "text/plain": [
       "       model Manufacture transmission fuelType  year  tax   mpg  engineSize  \\\n",
       "0        SLK    Mercedes    Automatic   Petrol  2005  325  32.1         1.8   \n",
       "1    S Class    Mercedes    Automatic   Hybrid  2017   20  61.4         2.1   \n",
       "2   SL CLASS    Mercedes    Automatic   Petrol  2016  555  28.0         5.5   \n",
       "3    G Class    Mercedes    Automatic   Petrol  2016  325  30.4         4.0   \n",
       "4    G Class    Mercedes    Automatic   Petrol  2016  325  30.1         4.0   \n",
       "\n",
       "   mileage  price  \n",
       "0    63000   5200  \n",
       "1    27000  34948  \n",
       "2     6200  49948  \n",
       "3    16000  61948  \n",
       "4     4000  73948  "
      ]
     },
     "execution_count": 2,
     "metadata": {},
     "output_type": "execute_result"
    }
   ],
   "source": [
    "data = pd.read_csv('usedcarv1.csv')\n",
    "data.head()"
   ]
  },
  {
   "attachments": {},
   "cell_type": "markdown",
   "metadata": {},
   "source": [
    "### 5 numerical columns: Price, mileage, tax, mpg and Engine Size\n",
    "### 4 categorical columns: Model, transmission , Manufacture and Fuel Type\n",
    "### 1 date column: year \n"
   ]
  },
  {
   "cell_type": "code",
   "execution_count": 3,
   "metadata": {},
   "outputs": [
    {
     "name": "stdout",
     "output_type": "stream",
     "text": [
      "<class 'pandas.core.frame.DataFrame'>\n",
      "RangeIndex: 52533 entries, 0 to 52532\n",
      "Data columns (total 10 columns):\n",
      " #   Column        Non-Null Count  Dtype  \n",
      "---  ------        --------------  -----  \n",
      " 0   model         52533 non-null  object \n",
      " 1   Manufacture   52533 non-null  object \n",
      " 2   transmission  52533 non-null  object \n",
      " 3   fuelType      52533 non-null  object \n",
      " 4   year          52533 non-null  int64  \n",
      " 5   tax           52533 non-null  int64  \n",
      " 6   mpg           52533 non-null  float64\n",
      " 7   engineSize    52533 non-null  float64\n",
      " 8   mileage       52533 non-null  int64  \n",
      " 9   price         52533 non-null  int64  \n",
      "dtypes: float64(2), int64(4), object(4)\n",
      "memory usage: 4.0+ MB\n",
      "None\n"
     ]
    }
   ],
   "source": [
    "data = pd.read_csv(\"usedcarv1.csv\", header=0)\n",
    "print (data.info())"
   ]
  },
  {
   "cell_type": "markdown",
   "metadata": {},
   "source": [
    "## Missing values inside data"
   ]
  },
  {
   "cell_type": "code",
   "execution_count": 47,
   "metadata": {},
   "outputs": [
    {
     "data": {
      "text/plain": [
       "model           0\n",
       "Manufacture     0\n",
       "transmission    0\n",
       "fuelType        0\n",
       "year            0\n",
       "tax             0\n",
       "mpg             0\n",
       "engineSize      0\n",
       "mileage         0\n",
       "price           0\n",
       "car_age         0\n",
       "dtype: int64"
      ]
     },
     "execution_count": 47,
     "metadata": {},
     "output_type": "execute_result"
    }
   ],
   "source": [
    "data.isna().sum()"
   ]
  },
  {
   "cell_type": "code",
   "execution_count": 5,
   "metadata": {},
   "outputs": [
    {
     "data": {
      "text/html": [
       "<div>\n",
       "<style scoped>\n",
       "    .dataframe tbody tr th:only-of-type {\n",
       "        vertical-align: middle;\n",
       "    }\n",
       "\n",
       "    .dataframe tbody tr th {\n",
       "        vertical-align: top;\n",
       "    }\n",
       "\n",
       "    .dataframe thead th {\n",
       "        text-align: right;\n",
       "    }\n",
       "</style>\n",
       "<table border=\"1\" class=\"dataframe\">\n",
       "  <thead>\n",
       "    <tr style=\"text-align: right;\">\n",
       "      <th></th>\n",
       "      <th>year</th>\n",
       "      <th>tax</th>\n",
       "      <th>mpg</th>\n",
       "      <th>engineSize</th>\n",
       "      <th>mileage</th>\n",
       "      <th>price</th>\n",
       "    </tr>\n",
       "  </thead>\n",
       "  <tbody>\n",
       "    <tr>\n",
       "      <th>count</th>\n",
       "      <td>52533.000000</td>\n",
       "      <td>52533.000000</td>\n",
       "      <td>52533.000000</td>\n",
       "      <td>52533.000000</td>\n",
       "      <td>52533.000000</td>\n",
       "      <td>52533.000000</td>\n",
       "    </tr>\n",
       "    <tr>\n",
       "      <th>mean</th>\n",
       "      <td>2017.064245</td>\n",
       "      <td>123.833210</td>\n",
       "      <td>55.461162</td>\n",
       "      <td>1.816576</td>\n",
       "      <td>23745.530200</td>\n",
       "      <td>19682.436449</td>\n",
       "    </tr>\n",
       "    <tr>\n",
       "      <th>std</th>\n",
       "      <td>2.179909</td>\n",
       "      <td>64.279225</td>\n",
       "      <td>18.308361</td>\n",
       "      <td>0.632283</td>\n",
       "      <td>22029.130268</td>\n",
       "      <td>11240.598940</td>\n",
       "    </tr>\n",
       "    <tr>\n",
       "      <th>min</th>\n",
       "      <td>1970.000000</td>\n",
       "      <td>0.000000</td>\n",
       "      <td>1.100000</td>\n",
       "      <td>0.000000</td>\n",
       "      <td>1.000000</td>\n",
       "      <td>495.000000</td>\n",
       "    </tr>\n",
       "    <tr>\n",
       "      <th>25%</th>\n",
       "      <td>2016.000000</td>\n",
       "      <td>125.000000</td>\n",
       "      <td>47.100000</td>\n",
       "      <td>1.400000</td>\n",
       "      <td>7200.000000</td>\n",
       "      <td>11950.000000</td>\n",
       "    </tr>\n",
       "    <tr>\n",
       "      <th>50%</th>\n",
       "      <td>2017.000000</td>\n",
       "      <td>145.000000</td>\n",
       "      <td>55.400000</td>\n",
       "      <td>2.000000</td>\n",
       "      <td>17695.000000</td>\n",
       "      <td>17338.000000</td>\n",
       "    </tr>\n",
       "    <tr>\n",
       "      <th>75%</th>\n",
       "      <td>2019.000000</td>\n",
       "      <td>145.000000</td>\n",
       "      <td>64.200000</td>\n",
       "      <td>2.000000</td>\n",
       "      <td>33446.000000</td>\n",
       "      <td>24500.000000</td>\n",
       "    </tr>\n",
       "    <tr>\n",
       "      <th>max</th>\n",
       "      <td>2020.000000</td>\n",
       "      <td>580.000000</td>\n",
       "      <td>470.800000</td>\n",
       "      <td>6.600000</td>\n",
       "      <td>323000.000000</td>\n",
       "      <td>159999.000000</td>\n",
       "    </tr>\n",
       "  </tbody>\n",
       "</table>\n",
       "</div>"
      ],
      "text/plain": [
       "               year           tax           mpg    engineSize        mileage  \\\n",
       "count  52533.000000  52533.000000  52533.000000  52533.000000   52533.000000   \n",
       "mean    2017.064245    123.833210     55.461162      1.816576   23745.530200   \n",
       "std        2.179909     64.279225     18.308361      0.632283   22029.130268   \n",
       "min     1970.000000      0.000000      1.100000      0.000000       1.000000   \n",
       "25%     2016.000000    125.000000     47.100000      1.400000    7200.000000   \n",
       "50%     2017.000000    145.000000     55.400000      2.000000   17695.000000   \n",
       "75%     2019.000000    145.000000     64.200000      2.000000   33446.000000   \n",
       "max     2020.000000    580.000000    470.800000      6.600000  323000.000000   \n",
       "\n",
       "               price  \n",
       "count   52533.000000  \n",
       "mean    19682.436449  \n",
       "std     11240.598940  \n",
       "min       495.000000  \n",
       "25%     11950.000000  \n",
       "50%     17338.000000  \n",
       "75%     24500.000000  \n",
       "max    159999.000000  "
      ]
     },
     "execution_count": 5,
     "metadata": {},
     "output_type": "execute_result"
    }
   ],
   "source": [
    "#summary \n",
    "data.describe()"
   ]
  },
  {
   "cell_type": "markdown",
   "metadata": {},
   "source": [
    "### In the Year column our old year is 1970 and 25% year is 2016 that means we have old cars that are before 2016 and latest car Year is 2020. While looking into max mileage the number have high variability probably because of outliers. "
   ]
  },
  {
   "cell_type": "code",
   "execution_count": 6,
   "metadata": {},
   "outputs": [
    {
     "data": {
      "text/plain": [
       "(100,)"
      ]
     },
     "execution_count": 6,
     "metadata": {},
     "output_type": "execute_result"
    }
   ],
   "source": [
    "#Number of models car in our dataset\n",
    "data.model.value_counts().shape"
   ]
  },
  {
   "cell_type": "markdown",
   "metadata": {},
   "source": [
    "### In our data set we have 100 Models of car"
   ]
  },
  {
   "cell_type": "markdown",
   "metadata": {},
   "source": [
    "## Data Visualization"
   ]
  },
  {
   "cell_type": "code",
   "execution_count": 7,
   "metadata": {},
   "outputs": [
    {
     "data": {
      "text/plain": [
       "Manual       23859\n",
       "Semi-Auto    16192\n",
       "Automatic    12482\n",
       "Name: transmission, dtype: int64"
      ]
     },
     "execution_count": 7,
     "metadata": {},
     "output_type": "execute_result"
    },
    {
     "data": {
      "image/png": "[encoded data removed]",
      "text/plain": [
       "<Figure size 432x288 with 1 Axes>"
      ]
     },
     "metadata": {
      "needs_background": "light"
     },
     "output_type": "display_data"
    }
   ],
   "source": [
    "data.transmission.value_counts()\n",
    "ax= sns.countplot(data['transmission'])\n",
    "plt.title('Types of transmission by counts', weight='bold')\n",
    "data.transmission.value_counts()"
   ]
  },
  {
   "attachments": {},
   "cell_type": "markdown",
   "metadata": {},
   "source": [
    "### Most of our car has Manual transission  by 23859\n"
   ]
  },
  {
   "cell_type": "code",
   "execution_count": 8,
   "metadata": {},
   "outputs": [
    {
     "data": {
      "text/plain": [
       "<matplotlib.axes._subplots.AxesSubplot at 0x1bb39234c70>"
      ]
     },
     "execution_count": 8,
     "metadata": {},
     "output_type": "execute_result"
    },
    {
     "data": {
      "image/png": "[encoded data removed]",
      "text/plain": [
       "<Figure size 432x288 with 1 Axes>"
      ]
     },
     "metadata": {
      "needs_background": "light"
     },
     "output_type": "display_data"
    }
   ],
   "source": [
    "sns.boxplot(x='transmission',y= 'price', data=data)"
   ]
  },
  {
   "cell_type": "markdown",
   "metadata": {},
   "source": [
    "### While comparing Price with Transmission we can analyse Semi- Auto transmission car is expensive "
   ]
  },
  {
   "cell_type": "code",
   "execution_count": 9,
   "metadata": {},
   "outputs": [
    {
     "data": {
      "text/plain": [
       "Diesel      27568\n",
       "Petrol      24431\n",
       "Hybrid        488\n",
       "Electric       46\n",
       "Name: fuelType, dtype: int64"
      ]
     },
     "execution_count": 9,
     "metadata": {},
     "output_type": "execute_result"
    },
    {
     "data": {
      "image/png": "[encoded data removed]",
      "text/plain": [
       "<Figure size 432x288 with 1 Axes>"
      ]
     },
     "metadata": {
      "needs_background": "light"
     },
     "output_type": "display_data"
    }
   ],
   "source": [
    "data.transmission.value_counts()\n",
    "ax= sns.countplot(data['fuelType'])\n",
    "plt.title('Fuel types by counts', weight='bold')\n",
    "data.fuelType.value_counts()"
   ]
  },
  {
   "cell_type": "markdown",
   "metadata": {},
   "source": [
    "### Most of our car  Diesel fuel type cars by 27568"
   ]
  },
  {
   "cell_type": "code",
   "execution_count": 10,
   "metadata": {},
   "outputs": [
    {
     "data": {
      "text/plain": [
       "<matplotlib.axes._subplots.AxesSubplot at 0x1bb393369d0>"
      ]
     },
     "execution_count": 10,
     "metadata": {},
     "output_type": "execute_result"
    },
    {
     "data": {
      "image/png": "[encoded data removed]",
      "text/plain": [
       "<Figure size 432x288 with 1 Axes>"
      ]
     },
     "metadata": {
      "needs_background": "light"
     },
     "output_type": "display_data"
    }
   ],
   "source": [
    "sns.boxplot(x='fuelType',y= 'price', data=data)"
   ]
  },
  {
   "cell_type": "markdown",
   "metadata": {},
   "source": [
    "### while comparing fuel type with price we can understand that Hybrid cars are exensive compare to other fuel types. "
   ]
  },
  {
   "cell_type": "code",
   "execution_count": 11,
   "metadata": {},
   "outputs": [
    {
     "data": {
      "text/plain": [
       "<matplotlib.axes._subplots.AxesSubplot at 0x1bb3925a8b0>"
      ]
     },
     "execution_count": 11,
     "metadata": {},
     "output_type": "execute_result"
    },
    {
     "data": {
      "image/png": "[encoded data removed]",
      "text/plain": [
       "<Figure size 1080x360 with 1 Axes>"
      ]
     },
     "metadata": {
      "needs_background": "light"
     },
     "output_type": "display_data"
    }
   ],
   "source": [
    "plt.figure(figsize=(15,5))\n",
    "sns.countplot(data['year'])"
   ]
  },
  {
   "cell_type": "markdown",
   "metadata": {},
   "source": [
    "###  While looking into graph most of our cars are in the year of 2019"
   ]
  },
  {
   "cell_type": "markdown",
   "metadata": {},
   "source": [
    "### To understand much better insight we are adding Car age into the dataset to understand the  impact on price."
   ]
  },
  {
   "cell_type": "code",
   "execution_count": 12,
   "metadata": {},
   "outputs": [
    {
     "data": {
      "text/html": [
       "<div>\n",
       "<style scoped>\n",
       "    .dataframe tbody tr th:only-of-type {\n",
       "        vertical-align: middle;\n",
       "    }\n",
       "\n",
       "    .dataframe tbody tr th {\n",
       "        vertical-align: top;\n",
       "    }\n",
       "\n",
       "    .dataframe thead th {\n",
       "        text-align: right;\n",
       "    }\n",
       "</style>\n",
       "<table border=\"1\" class=\"dataframe\">\n",
       "  <thead>\n",
       "    <tr style=\"text-align: right;\">\n",
       "      <th></th>\n",
       "      <th>model</th>\n",
       "      <th>Manufacture</th>\n",
       "      <th>transmission</th>\n",
       "      <th>fuelType</th>\n",
       "      <th>year</th>\n",
       "      <th>tax</th>\n",
       "      <th>mpg</th>\n",
       "      <th>engineSize</th>\n",
       "      <th>mileage</th>\n",
       "      <th>price</th>\n",
       "      <th>car_age</th>\n",
       "    </tr>\n",
       "  </thead>\n",
       "  <tbody>\n",
       "    <tr>\n",
       "      <th>0</th>\n",
       "      <td>SLK</td>\n",
       "      <td>Mercedes</td>\n",
       "      <td>Automatic</td>\n",
       "      <td>Petrol</td>\n",
       "      <td>2005</td>\n",
       "      <td>325</td>\n",
       "      <td>32.1</td>\n",
       "      <td>1.8</td>\n",
       "      <td>63000</td>\n",
       "      <td>5200</td>\n",
       "      <td>15</td>\n",
       "    </tr>\n",
       "    <tr>\n",
       "      <th>1</th>\n",
       "      <td>S Class</td>\n",
       "      <td>Mercedes</td>\n",
       "      <td>Automatic</td>\n",
       "      <td>Hybrid</td>\n",
       "      <td>2017</td>\n",
       "      <td>20</td>\n",
       "      <td>61.4</td>\n",
       "      <td>2.1</td>\n",
       "      <td>27000</td>\n",
       "      <td>34948</td>\n",
       "      <td>3</td>\n",
       "    </tr>\n",
       "    <tr>\n",
       "      <th>2</th>\n",
       "      <td>SL CLASS</td>\n",
       "      <td>Mercedes</td>\n",
       "      <td>Automatic</td>\n",
       "      <td>Petrol</td>\n",
       "      <td>2016</td>\n",
       "      <td>555</td>\n",
       "      <td>28.0</td>\n",
       "      <td>5.5</td>\n",
       "      <td>6200</td>\n",
       "      <td>49948</td>\n",
       "      <td>4</td>\n",
       "    </tr>\n",
       "    <tr>\n",
       "      <th>3</th>\n",
       "      <td>G Class</td>\n",
       "      <td>Mercedes</td>\n",
       "      <td>Automatic</td>\n",
       "      <td>Petrol</td>\n",
       "      <td>2016</td>\n",
       "      <td>325</td>\n",
       "      <td>30.4</td>\n",
       "      <td>4.0</td>\n",
       "      <td>16000</td>\n",
       "      <td>61948</td>\n",
       "      <td>4</td>\n",
       "    </tr>\n",
       "    <tr>\n",
       "      <th>4</th>\n",
       "      <td>G Class</td>\n",
       "      <td>Mercedes</td>\n",
       "      <td>Automatic</td>\n",
       "      <td>Petrol</td>\n",
       "      <td>2016</td>\n",
       "      <td>325</td>\n",
       "      <td>30.1</td>\n",
       "      <td>4.0</td>\n",
       "      <td>4000</td>\n",
       "      <td>73948</td>\n",
       "      <td>4</td>\n",
       "    </tr>\n",
       "  </tbody>\n",
       "</table>\n",
       "</div>"
      ],
      "text/plain": [
       "       model Manufacture transmission fuelType  year  tax   mpg  engineSize  \\\n",
       "0        SLK    Mercedes    Automatic   Petrol  2005  325  32.1         1.8   \n",
       "1    S Class    Mercedes    Automatic   Hybrid  2017   20  61.4         2.1   \n",
       "2   SL CLASS    Mercedes    Automatic   Petrol  2016  555  28.0         5.5   \n",
       "3    G Class    Mercedes    Automatic   Petrol  2016  325  30.4         4.0   \n",
       "4    G Class    Mercedes    Automatic   Petrol  2016  325  30.1         4.0   \n",
       "\n",
       "   mileage  price  car_age  \n",
       "0    63000   5200       15  \n",
       "1    27000  34948        3  \n",
       "2     6200  49948        4  \n",
       "3    16000  61948        4  \n",
       "4     4000  73948        4  "
      ]
     },
     "execution_count": 12,
     "metadata": {},
     "output_type": "execute_result"
    }
   ],
   "source": [
    "data['car_age'] = 2020-data['year']\n",
    "data.head()"
   ]
  },
  {
   "cell_type": "code",
   "execution_count": 13,
   "metadata": {},
   "outputs": [
    {
     "data": {
      "text/plain": [
       "<matplotlib.axes._subplots.AxesSubplot at 0x1bb3a418970>"
      ]
     },
     "execution_count": 13,
     "metadata": {},
     "output_type": "execute_result"
    },
    {
     "data": {
      "image/png": "[encoded data removed]",
      "text/plain": [
       "<Figure size 432x288 with 1 Axes>"
      ]
     },
     "metadata": {
      "needs_background": "light"
     },
     "output_type": "display_data"
    }
   ],
   "source": [
    "sns.barplot(x = 'car_age',y='price',data=data)"
   ]
  },
  {
   "cell_type": "markdown",
   "metadata": {},
   "source": [
    "### As the age of car increases the price gets reduces we can see at the age of 50 one car that is very old probably vintage car "
   ]
  },
  {
   "cell_type": "code",
   "execution_count": 14,
   "metadata": {},
   "outputs": [
    {
     "data": {
      "text/plain": [
       "<matplotlib.axes._subplots.AxesSubplot at 0x1bb3a4633a0>"
      ]
     },
     "execution_count": 14,
     "metadata": {},
     "output_type": "execute_result"
    },
    {
     "data": {
      "image/png": "[encoded data removed]",
      "text/plain": [
       "<Figure size 432x288 with 1 Axes>"
      ]
     },
     "metadata": {
      "needs_background": "light"
     },
     "output_type": "display_data"
    }
   ],
   "source": [
    "sns.boxplot(x = 'car_age',y='price',data=data)"
   ]
  },
  {
   "cell_type": "code",
   "execution_count": 15,
   "metadata": {},
   "outputs": [
    {
     "data": {
      "text/plain": [
       "Text(0.5, 1.0, 'Transmission VS Car age')"
      ]
     },
     "execution_count": 15,
     "metadata": {},
     "output_type": "execute_result"
    },
    {
     "data": {
      "image/png": "[encoded data removed]",
      "text/plain": [
       "<Figure size 432x288 with 1 Axes>"
      ]
     },
     "metadata": {
      "needs_background": "light"
     },
     "output_type": "display_data"
    }
   ],
   "source": [
    "sns.barplot(x = 'car_age',y='transmission',data=data)\n",
    "plt.title('Transmission VS Car age', weight='bold')"
   ]
  },
  {
   "cell_type": "code",
   "execution_count": 16,
   "metadata": {},
   "outputs": [
    {
     "data": {
      "text/plain": [
       "<matplotlib.axes._subplots.AxesSubplot at 0x1bb3a936c70>"
      ]
     },
     "execution_count": 16,
     "metadata": {},
     "output_type": "execute_result"
    },
    {
     "data": {
      "image/png": "[encoded data removed]",
      "text/plain": [
       "<Figure size 432x288 with 1 Axes>"
      ]
     },
     "metadata": {
      "needs_background": "light"
     },
     "output_type": "display_data"
    }
   ],
   "source": [
    "sns.barplot(x = 'Manufacture',y='price',data=data)"
   ]
  },
  {
   "cell_type": "markdown",
   "metadata": {},
   "source": [
    "### we have 4 manufacture in our dataset when comparing with price Mercedes car is expensive "
   ]
  },
  {
   "cell_type": "code",
   "execution_count": 17,
   "metadata": {},
   "outputs": [
    {
     "data": {
      "text/plain": [
       "<matplotlib.axes._subplots.AxesSubplot at 0x1bb3a4e9820>"
      ]
     },
     "execution_count": 17,
     "metadata": {},
     "output_type": "execute_result"
    },
    {
     "data": {
      "image/png": "[encoded data removed]",
      "text/plain": [
       "<Figure size 432x288 with 1 Axes>"
      ]
     },
     "metadata": {
      "needs_background": "light"
     },
     "output_type": "display_data"
    }
   ],
   "source": [
    "sns.boxplot(x = 'Manufacture',y='price',data=data)"
   ]
  },
  {
   "cell_type": "code",
   "execution_count": 18,
   "metadata": {},
   "outputs": [
    {
     "data": {
      "text/plain": [
       "Text(0.5, 1.0, 'Top 5 models')"
      ]
     },
     "execution_count": 18,
     "metadata": {},
     "output_type": "execute_result"
    },
    {
     "data": {
      "image/png": "[encoded data removed]",
      "text/plain": [
       "<Figure size 432x288 with 1 Axes>"
      ]
     },
     "metadata": {
      "needs_background": "light"
     },
     "output_type": "display_data"
    }
   ],
   "source": [
    "sns.countplot(x='model',data=data, order=data.model.value_counts().iloc[:5].index)\n",
    "plt.title('Top 5 models', weight='bold')"
   ]
  },
  {
   "cell_type": "markdown",
   "metadata": {},
   "source": [
    "### More than 6k used car are Ford Fiesta model followed by Ford Focus."
   ]
  },
  {
   "cell_type": "code",
   "execution_count": 19,
   "metadata": {},
   "outputs": [
    {
     "data": {
      "text/plain": [
       "<matplotlib.axes._subplots.AxesSubplot at 0x1bb3aa82340>"
      ]
     },
     "execution_count": 19,
     "metadata": {},
     "output_type": "execute_result"
    },
    {
     "data": {
      "image/png": "[encoded data removed]",
      "text/plain": [
       "<Figure size 864x504 with 1 Axes>"
      ]
     },
     "metadata": {
      "needs_background": "light"
     },
     "output_type": "display_data"
    }
   ],
   "source": [
    "#Price distribution\n",
    "plt.figure(figsize=(12,7))\n",
    "plt.title('Price distribution')\n",
    "sns.distplot(data['price'])"
   ]
  },
  {
   "cell_type": "code",
   "execution_count": 20,
   "metadata": {},
   "outputs": [
    {
     "data": {
      "text/plain": [
       "Text(0.5, 1.0, 'Price Vs Mileage')"
      ]
     },
     "execution_count": 20,
     "metadata": {},
     "output_type": "execute_result"
    },
    {
     "data": {
      "image/png": "[encoded data removed]",
      "text/plain": [
       "<Figure size 432x288 with 1 Axes>"
      ]
     },
     "metadata": {
      "needs_background": "light"
     },
     "output_type": "display_data"
    }
   ],
   "source": [
    "plt.scatter(data['mileage'],data['price'])\n",
    "plt.xlabel('mileage')\n",
    "plt.ylabel('price')\n",
    "plt.title('Price Vs Mileage')"
   ]
  },
  {
   "cell_type": "code",
   "execution_count": 21,
   "metadata": {},
   "outputs": [
    {
     "data": {
      "text/plain": [
       "Text(0.5, 1.0, 'Price Vs EngineSize')"
      ]
     },
     "execution_count": 21,
     "metadata": {},
     "output_type": "execute_result"
    },
    {
     "data": {
      "image/png": "[encoded data removed]",
      "text/plain": [
       "<Figure size 432x288 with 1 Axes>"
      ]
     },
     "metadata": {
      "needs_background": "light"
     },
     "output_type": "display_data"
    }
   ],
   "source": [
    "plt.scatter(data['price'],data['engineSize'])\n",
    "plt.xlabel('price')\n",
    "plt.ylabel('engineSize')\n",
    "plt.title('Price Vs EngineSize')"
   ]
  },
  {
   "cell_type": "code",
   "execution_count": 22,
   "metadata": {},
   "outputs": [
    {
     "data": {
      "text/plain": [
       "Text(0.5, 1.0, 'Price Vs year')"
      ]
     },
     "execution_count": 22,
     "metadata": {},
     "output_type": "execute_result"
    },
    {
     "data": {
      "image/png": "[encoded data removed]",
      "text/plain": [
       "<Figure size 432x288 with 1 Axes>"
      ]
     },
     "metadata": {
      "needs_background": "light"
     },
     "output_type": "display_data"
    }
   ],
   "source": [
    "plt.scatter(data['year'],data['price'])\n",
    "plt.xlabel('year')\n",
    "plt.ylabel('price')\n",
    "plt.title('Price Vs year')"
   ]
  },
  {
   "cell_type": "code",
   "execution_count": 23,
   "metadata": {},
   "outputs": [
    {
     "data": {
      "text/plain": [
       "Text(0.5, 1.0, 'Price Vs mpg')"
      ]
     },
     "execution_count": 23,
     "metadata": {},
     "output_type": "execute_result"
    },
    {
     "data": {
      "image/png": "[encoded data removed]",
      "text/plain": [
       "<Figure size 432x288 with 1 Axes>"
      ]
     },
     "metadata": {
      "needs_background": "light"
     },
     "output_type": "display_data"
    }
   ],
   "source": [
    "plt.scatter(data['mpg'],data['price'])\n",
    "plt.xlabel('mpg')\n",
    "plt.ylabel('price')\n",
    "plt.title('Price Vs mpg')"
   ]
  },
  {
   "cell_type": "markdown",
   "metadata": {},
   "source": [
    "## identify outliers"
   ]
  },
  {
   "cell_type": "code",
   "execution_count": 24,
   "metadata": {},
   "outputs": [
    {
     "data": {
      "text/plain": [
       "<matplotlib.axes._subplots.AxesSubplot at 0x1bb32da9bb0>"
      ]
     },
     "execution_count": 24,
     "metadata": {},
     "output_type": "execute_result"
    },
    {
     "data": {
      "image/png": "[encoded data removed]",
      "text/plain": [
       "<Figure size 1080x360 with 1 Axes>"
      ]
     },
     "metadata": {
      "needs_background": "light"
     },
     "output_type": "display_data"
    }
   ],
   "source": [
    "mpl.rcParams['figure.figsize'] = (15,5)\n",
    "sns.boxplot(data=data, palette=\"Set3\", orient='h')"
   ]
  },
  {
   "cell_type": "markdown",
   "metadata": {},
   "source": [
    "### Mileage and Price has high variability possibly because of Outliers"
   ]
  },
  {
   "cell_type": "code",
   "execution_count": 25,
   "metadata": {},
   "outputs": [
    {
     "name": "stdout",
     "output_type": "stream",
     "text": [
      "year              3.0\n",
      "tax              20.0\n",
      "mpg              17.1\n",
      "engineSize        0.6\n",
      "mileage       26246.0\n",
      "price         12550.0\n",
      "car_age           3.0\n",
      "dtype: float64\n"
     ]
    }
   ],
   "source": [
    "Q1 = data.quantile(0.25)\n",
    "Q3 = data.quantile(0.75)\n",
    "IQR = Q3 - Q1\n",
    "print(IQR)"
   ]
  },
  {
   "cell_type": "markdown",
   "metadata": {},
   "source": [
    " ### outlier detection"
   ]
  },
  {
   "cell_type": "code",
   "execution_count": 26,
   "metadata": {},
   "outputs": [
    {
     "name": "stdout",
     "output_type": "stream",
     "text": [
      "When we have not removed any outliers from the dataset, we have 52533 entries\n",
      "When we have removed all outliers from the dataset, we have 32714 entries\n",
      "The proportion of outliers which exist when compared to the dataframe are: 0.6227323777435136\n"
     ]
    }
   ],
   "source": [
    "print (\"When we have not removed any outliers from the dataset, we have \" + str(len(data)) + \" entries\") \n",
    "\n",
    "data_o = data[~((data< (Q1 - 1.5 * IQR)) |(data> (Q3 + 1.5 * IQR))).any(axis=1)]\n",
    "\n",
    "print (\"When we have removed all outliers from the dataset, we have \" + str(len(data_o)) + \" entries\")\n",
    "print (\"The proportion of outliers which exist when compared to the dataframe are: \" + str(len(data_o)/len(data)))"
   ]
  },
  {
   "cell_type": "markdown",
   "metadata": {},
   "source": [
    "## Comparing box plot with and without outliers"
   ]
  },
  {
   "cell_type": "code",
   "execution_count": 27,
   "metadata": {},
   "outputs": [
    {
     "data": {
      "text/plain": [
       "Text(0.5, 1.0, 'outliers removed')"
      ]
     },
     "execution_count": 27,
     "metadata": {},
     "output_type": "execute_result"
    },
    {
     "data": {
      "image/png": "[encoded data removed]",
      "text/plain": [
       "<Figure size 1080x360 with 1 Axes>"
      ]
     },
     "metadata": {
      "needs_background": "light"
     },
     "output_type": "display_data"
    }
   ],
   "source": [
    "mpl.rcParams['figure.figsize'] = (15,5)\n",
    "sns.boxplot(data=data_o, palette=\"Set3\", orient='h')\n",
    "plt.title(\"outliers removed\")"
   ]
  },
  {
   "cell_type": "code",
   "execution_count": 28,
   "metadata": {},
   "outputs": [
    {
     "data": {
      "text/plain": [
       "Text(0.5, 1.0, 'Data with outliers')"
      ]
     },
     "execution_count": 28,
     "metadata": {},
     "output_type": "execute_result"
    },
    {
     "data": {
      "image/png": "[encoded data removed]",
      "text/plain": [
       "<Figure size 1080x360 with 1 Axes>"
      ]
     },
     "metadata": {
      "needs_background": "light"
     },
     "output_type": "display_data"
    }
   ],
   "source": [
    "mpl.rcParams['figure.figsize'] = (15,5)\n",
    "sns.boxplot(data=data, palette=\"Set3\", orient='h')\n",
    "plt.title(\"Data with outliers\")"
   ]
  },
  {
   "cell_type": "code",
   "execution_count": 29,
   "metadata": {},
   "outputs": [
    {
     "data": {
      "text/plain": [
       "(32714, 11)"
      ]
     },
     "execution_count": 29,
     "metadata": {},
     "output_type": "execute_result"
    }
   ],
   "source": [
    "#without Outliers\n",
    "data_o.shape"
   ]
  },
  {
   "cell_type": "code",
   "execution_count": 30,
   "metadata": {},
   "outputs": [
    {
     "data": {
      "text/plain": [
       "(52533, 11)"
      ]
     },
     "execution_count": 30,
     "metadata": {},
     "output_type": "execute_result"
    }
   ],
   "source": [
    "#With Outliers\n",
    "data.shape"
   ]
  },
  {
   "cell_type": "markdown",
   "metadata": {},
   "source": [
    "## Based on the boxplots, we have come to the conclusion that, we shouldn't remove the outliers, as we are trying to understand the price behavior based on other factors."
   ]
  },
  {
   "cell_type": "markdown",
   "metadata": {},
   "source": [
    "## Correlation Matrix using heatmap"
   ]
  },
  {
   "cell_type": "code",
   "execution_count": 31,
   "metadata": {},
   "outputs": [
    {
     "data": {
      "text/plain": [
       "<matplotlib.axes._subplots.AxesSubplot at 0x1bb389f6d00>"
      ]
     },
     "execution_count": 31,
     "metadata": {},
     "output_type": "execute_result"
    },
    {
     "data": {
      "image/png": "[encoded data removed]",
      "text/plain": [
       "<Figure size 864x360 with 2 Axes>"
      ]
     },
     "metadata": {
      "needs_background": "light"
     },
     "output_type": "display_data"
    }
   ],
   "source": [
    "plt.figure(figsize=(12,5))\n",
    "sns.heatmap(data.corr(), annot= True)"
   ]
  },
  {
   "cell_type": "markdown",
   "metadata": {},
   "source": [
    "### With respect to price the engine Size has a correlation by .62 that indicates as the size of engine increase the price also have affect. With the increase in price tax also correlated by .32 followed by year .52. The highest correlation score is .75 between car age and Mileage . \n"
   ]
  },
  {
   "cell_type": "markdown",
   "metadata": {},
   "source": [
    "## Converting categorical columns: Model, transmission and FuelType to Numerical values by using One Hot Coding"
   ]
  },
  {
   "cell_type": "code",
   "execution_count": 32,
   "metadata": {},
   "outputs": [],
   "source": [
    "data1 =pd.get_dummies(data, columns= ['transmission', 'fuelType','model','Manufacture'])"
   ]
  },
  {
   "cell_type": "code",
   "execution_count": 33,
   "metadata": {},
   "outputs": [
    {
     "data": {
      "text/html": [
       "<div>\n",
       "<style scoped>\n",
       "    .dataframe tbody tr th:only-of-type {\n",
       "        vertical-align: middle;\n",
       "    }\n",
       "\n",
       "    .dataframe tbody tr th {\n",
       "        vertical-align: top;\n",
       "    }\n",
       "\n",
       "    .dataframe thead th {\n",
       "        text-align: right;\n",
       "    }\n",
       "</style>\n",
       "<table border=\"1\" class=\"dataframe\">\n",
       "  <thead>\n",
       "    <tr style=\"text-align: right;\">\n",
       "      <th></th>\n",
       "      <th>year</th>\n",
       "      <th>tax</th>\n",
       "      <th>mpg</th>\n",
       "      <th>engineSize</th>\n",
       "      <th>mileage</th>\n",
       "      <th>price</th>\n",
       "      <th>car_age</th>\n",
       "      <th>transmission_Automatic</th>\n",
       "      <th>transmission_Manual</th>\n",
       "      <th>transmission_Semi-Auto</th>\n",
       "      <th>...</th>\n",
       "      <th>model_ i3</th>\n",
       "      <th>model_ i8</th>\n",
       "      <th>model_180</th>\n",
       "      <th>model_CLA200</th>\n",
       "      <th>model_E220</th>\n",
       "      <th>model_E230</th>\n",
       "      <th>Manufacture_Audi</th>\n",
       "      <th>Manufacture_BMW</th>\n",
       "      <th>Manufacture_Ford</th>\n",
       "      <th>Manufacture_Mercedes</th>\n",
       "    </tr>\n",
       "  </thead>\n",
       "  <tbody>\n",
       "    <tr>\n",
       "      <th>0</th>\n",
       "      <td>2005</td>\n",
       "      <td>325</td>\n",
       "      <td>32.1</td>\n",
       "      <td>1.8</td>\n",
       "      <td>63000</td>\n",
       "      <td>5200</td>\n",
       "      <td>15</td>\n",
       "      <td>1</td>\n",
       "      <td>0</td>\n",
       "      <td>0</td>\n",
       "      <td>...</td>\n",
       "      <td>0</td>\n",
       "      <td>0</td>\n",
       "      <td>0</td>\n",
       "      <td>0</td>\n",
       "      <td>0</td>\n",
       "      <td>0</td>\n",
       "      <td>0</td>\n",
       "      <td>0</td>\n",
       "      <td>0</td>\n",
       "      <td>1</td>\n",
       "    </tr>\n",
       "    <tr>\n",
       "      <th>1</th>\n",
       "      <td>2017</td>\n",
       "      <td>20</td>\n",
       "      <td>61.4</td>\n",
       "      <td>2.1</td>\n",
       "      <td>27000</td>\n",
       "      <td>34948</td>\n",
       "      <td>3</td>\n",
       "      <td>1</td>\n",
       "      <td>0</td>\n",
       "      <td>0</td>\n",
       "      <td>...</td>\n",
       "      <td>0</td>\n",
       "      <td>0</td>\n",
       "      <td>0</td>\n",
       "      <td>0</td>\n",
       "      <td>0</td>\n",
       "      <td>0</td>\n",
       "      <td>0</td>\n",
       "      <td>0</td>\n",
       "      <td>0</td>\n",
       "      <td>1</td>\n",
       "    </tr>\n",
       "    <tr>\n",
       "      <th>2</th>\n",
       "      <td>2016</td>\n",
       "      <td>555</td>\n",
       "      <td>28.0</td>\n",
       "      <td>5.5</td>\n",
       "      <td>6200</td>\n",
       "      <td>49948</td>\n",
       "      <td>4</td>\n",
       "      <td>1</td>\n",
       "      <td>0</td>\n",
       "      <td>0</td>\n",
       "      <td>...</td>\n",
       "      <td>0</td>\n",
       "      <td>0</td>\n",
       "      <td>0</td>\n",
       "      <td>0</td>\n",
       "      <td>0</td>\n",
       "      <td>0</td>\n",
       "      <td>0</td>\n",
       "      <td>0</td>\n",
       "      <td>0</td>\n",
       "      <td>1</td>\n",
       "    </tr>\n",
       "    <tr>\n",
       "      <th>3</th>\n",
       "      <td>2016</td>\n",
       "      <td>325</td>\n",
       "      <td>30.4</td>\n",
       "      <td>4.0</td>\n",
       "      <td>16000</td>\n",
       "      <td>61948</td>\n",
       "      <td>4</td>\n",
       "      <td>1</td>\n",
       "      <td>0</td>\n",
       "      <td>0</td>\n",
       "      <td>...</td>\n",
       "      <td>0</td>\n",
       "      <td>0</td>\n",
       "      <td>0</td>\n",
       "      <td>0</td>\n",
       "      <td>0</td>\n",
       "      <td>0</td>\n",
       "      <td>0</td>\n",
       "      <td>0</td>\n",
       "      <td>0</td>\n",
       "      <td>1</td>\n",
       "    </tr>\n",
       "    <tr>\n",
       "      <th>4</th>\n",
       "      <td>2016</td>\n",
       "      <td>325</td>\n",
       "      <td>30.1</td>\n",
       "      <td>4.0</td>\n",
       "      <td>4000</td>\n",
       "      <td>73948</td>\n",
       "      <td>4</td>\n",
       "      <td>1</td>\n",
       "      <td>0</td>\n",
       "      <td>0</td>\n",
       "      <td>...</td>\n",
       "      <td>0</td>\n",
       "      <td>0</td>\n",
       "      <td>0</td>\n",
       "      <td>0</td>\n",
       "      <td>0</td>\n",
       "      <td>0</td>\n",
       "      <td>0</td>\n",
       "      <td>0</td>\n",
       "      <td>0</td>\n",
       "      <td>1</td>\n",
       "    </tr>\n",
       "    <tr>\n",
       "      <th>...</th>\n",
       "      <td>...</td>\n",
       "      <td>...</td>\n",
       "      <td>...</td>\n",
       "      <td>...</td>\n",
       "      <td>...</td>\n",
       "      <td>...</td>\n",
       "      <td>...</td>\n",
       "      <td>...</td>\n",
       "      <td>...</td>\n",
       "      <td>...</td>\n",
       "      <td>...</td>\n",
       "      <td>...</td>\n",
       "      <td>...</td>\n",
       "      <td>...</td>\n",
       "      <td>...</td>\n",
       "      <td>...</td>\n",
       "      <td>...</td>\n",
       "      <td>...</td>\n",
       "      <td>...</td>\n",
       "      <td>...</td>\n",
       "      <td>...</td>\n",
       "    </tr>\n",
       "    <tr>\n",
       "      <th>52528</th>\n",
       "      <td>2016</td>\n",
       "      <td>125</td>\n",
       "      <td>54.3</td>\n",
       "      <td>1.2</td>\n",
       "      <td>31348</td>\n",
       "      <td>7999</td>\n",
       "      <td>4</td>\n",
       "      <td>0</td>\n",
       "      <td>1</td>\n",
       "      <td>0</td>\n",
       "      <td>...</td>\n",
       "      <td>0</td>\n",
       "      <td>0</td>\n",
       "      <td>0</td>\n",
       "      <td>0</td>\n",
       "      <td>0</td>\n",
       "      <td>0</td>\n",
       "      <td>0</td>\n",
       "      <td>0</td>\n",
       "      <td>1</td>\n",
       "      <td>0</td>\n",
       "    </tr>\n",
       "    <tr>\n",
       "      <th>52529</th>\n",
       "      <td>2017</td>\n",
       "      <td>150</td>\n",
       "      <td>47.1</td>\n",
       "      <td>1.4</td>\n",
       "      <td>16700</td>\n",
       "      <td>8999</td>\n",
       "      <td>3</td>\n",
       "      <td>0</td>\n",
       "      <td>1</td>\n",
       "      <td>0</td>\n",
       "      <td>...</td>\n",
       "      <td>0</td>\n",
       "      <td>0</td>\n",
       "      <td>0</td>\n",
       "      <td>0</td>\n",
       "      <td>0</td>\n",
       "      <td>0</td>\n",
       "      <td>0</td>\n",
       "      <td>0</td>\n",
       "      <td>1</td>\n",
       "      <td>0</td>\n",
       "    </tr>\n",
       "    <tr>\n",
       "      <th>52530</th>\n",
       "      <td>2014</td>\n",
       "      <td>30</td>\n",
       "      <td>57.7</td>\n",
       "      <td>1.0</td>\n",
       "      <td>40700</td>\n",
       "      <td>7499</td>\n",
       "      <td>6</td>\n",
       "      <td>0</td>\n",
       "      <td>1</td>\n",
       "      <td>0</td>\n",
       "      <td>...</td>\n",
       "      <td>0</td>\n",
       "      <td>0</td>\n",
       "      <td>0</td>\n",
       "      <td>0</td>\n",
       "      <td>0</td>\n",
       "      <td>0</td>\n",
       "      <td>0</td>\n",
       "      <td>0</td>\n",
       "      <td>1</td>\n",
       "      <td>0</td>\n",
       "    </tr>\n",
       "    <tr>\n",
       "      <th>52531</th>\n",
       "      <td>2015</td>\n",
       "      <td>20</td>\n",
       "      <td>67.3</td>\n",
       "      <td>1.6</td>\n",
       "      <td>7010</td>\n",
       "      <td>9999</td>\n",
       "      <td>5</td>\n",
       "      <td>0</td>\n",
       "      <td>1</td>\n",
       "      <td>0</td>\n",
       "      <td>...</td>\n",
       "      <td>0</td>\n",
       "      <td>0</td>\n",
       "      <td>0</td>\n",
       "      <td>0</td>\n",
       "      <td>0</td>\n",
       "      <td>0</td>\n",
       "      <td>0</td>\n",
       "      <td>0</td>\n",
       "      <td>1</td>\n",
       "      <td>0</td>\n",
       "    </tr>\n",
       "    <tr>\n",
       "      <th>52532</th>\n",
       "      <td>2018</td>\n",
       "      <td>145</td>\n",
       "      <td>57.7</td>\n",
       "      <td>1.2</td>\n",
       "      <td>5007</td>\n",
       "      <td>8299</td>\n",
       "      <td>2</td>\n",
       "      <td>0</td>\n",
       "      <td>1</td>\n",
       "      <td>0</td>\n",
       "      <td>...</td>\n",
       "      <td>0</td>\n",
       "      <td>0</td>\n",
       "      <td>0</td>\n",
       "      <td>0</td>\n",
       "      <td>0</td>\n",
       "      <td>0</td>\n",
       "      <td>0</td>\n",
       "      <td>0</td>\n",
       "      <td>1</td>\n",
       "      <td>0</td>\n",
       "    </tr>\n",
       "  </tbody>\n",
       "</table>\n",
       "<p>52533 rows × 118 columns</p>\n",
       "</div>"
      ],
      "text/plain": [
       "       year  tax   mpg  engineSize  mileage  price  car_age  \\\n",
       "0      2005  325  32.1         1.8    63000   5200       15   \n",
       "1      2017   20  61.4         2.1    27000  34948        3   \n",
       "2      2016  555  28.0         5.5     6200  49948        4   \n",
       "3      2016  325  30.4         4.0    16000  61948        4   \n",
       "4      2016  325  30.1         4.0     4000  73948        4   \n",
       "...     ...  ...   ...         ...      ...    ...      ...   \n",
       "52528  2016  125  54.3         1.2    31348   7999        4   \n",
       "52529  2017  150  47.1         1.4    16700   8999        3   \n",
       "52530  2014   30  57.7         1.0    40700   7499        6   \n",
       "52531  2015   20  67.3         1.6     7010   9999        5   \n",
       "52532  2018  145  57.7         1.2     5007   8299        2   \n",
       "\n",
       "       transmission_Automatic  transmission_Manual  transmission_Semi-Auto  \\\n",
       "0                           1                    0                       0   \n",
       "1                           1                    0                       0   \n",
       "2                           1                    0                       0   \n",
       "3                           1                    0                       0   \n",
       "4                           1                    0                       0   \n",
       "...                       ...                  ...                     ...   \n",
       "52528                       0                    1                       0   \n",
       "52529                       0                    1                       0   \n",
       "52530                       0                    1                       0   \n",
       "52531                       0                    1                       0   \n",
       "52532                       0                    1                       0   \n",
       "\n",
       "       ...  model_ i3  model_ i8  model_180  model_CLA200  model_E220  \\\n",
       "0      ...          0          0          0             0           0   \n",
       "1      ...          0          0          0             0           0   \n",
       "2      ...          0          0          0             0           0   \n",
       "3      ...          0          0          0             0           0   \n",
       "4      ...          0          0          0             0           0   \n",
       "...    ...        ...        ...        ...           ...         ...   \n",
       "52528  ...          0          0          0             0           0   \n",
       "52529  ...          0          0          0             0           0   \n",
       "52530  ...          0          0          0             0           0   \n",
       "52531  ...          0          0          0             0           0   \n",
       "52532  ...          0          0          0             0           0   \n",
       "\n",
       "       model_E230  Manufacture_Audi  Manufacture_BMW  Manufacture_Ford  \\\n",
       "0               0                 0                0                 0   \n",
       "1               0                 0                0                 0   \n",
       "2               0                 0                0                 0   \n",
       "3               0                 0                0                 0   \n",
       "4               0                 0                0                 0   \n",
       "...           ...               ...              ...               ...   \n",
       "52528           0                 0                0                 1   \n",
       "52529           0                 0                0                 1   \n",
       "52530           0                 0                0                 1   \n",
       "52531           0                 0                0                 1   \n",
       "52532           0                 0                0                 1   \n",
       "\n",
       "       Manufacture_Mercedes  \n",
       "0                         1  \n",
       "1                         1  \n",
       "2                         1  \n",
       "3                         1  \n",
       "4                         1  \n",
       "...                     ...  \n",
       "52528                     0  \n",
       "52529                     0  \n",
       "52530                     0  \n",
       "52531                     0  \n",
       "52532                     0  \n",
       "\n",
       "[52533 rows x 118 columns]"
      ]
     },
     "execution_count": 33,
     "metadata": {},
     "output_type": "execute_result"
    }
   ],
   "source": [
    "data1"
   ]
  },
  {
   "cell_type": "markdown",
   "metadata": {},
   "source": [
    "## Identify multicollinearity"
   ]
  },
  {
   "cell_type": "code",
   "execution_count": 34,
   "metadata": {},
   "outputs": [
    {
     "name": "stderr",
     "output_type": "stream",
     "text": [
      "C:\\Users\\owner\\anaconda3\\lib\\site-packages\\statsmodels\\stats\\outliers_influence.py:193: RuntimeWarning: divide by zero encountered in double_scalars\n",
      "  vif = 1. / (1. - r_squared_i)\n"
     ]
    },
    {
     "name": "stdout",
     "output_type": "stream",
     "text": [
      "                          feature           VIF\n",
      "0                            year           inf\n",
      "1                             tax  1.657913e+00\n",
      "2                             mpg  6.258544e+00\n",
      "3                      engineSize  3.658497e+00\n",
      "4                         mileage  2.616799e+00\n",
      "5                         car_age  9.007199e+15\n",
      "6          transmission_Automatic           inf\n",
      "7             transmission_Manual           inf\n",
      "8          transmission_Semi-Auto           inf\n",
      "9                 fuelType_Diesel           inf\n",
      "10              fuelType_Electric           inf\n",
      "11                fuelType_Hybrid           inf\n",
      "12                fuelType_Petrol           inf\n",
      "13                model_ 1 Series           inf\n",
      "14                model_ 2 Series           inf\n",
      "15                model_ 3 Series           inf\n",
      "16                model_ 4 Series           inf\n",
      "17                model_ 5 Series           inf\n",
      "18                model_ 6 Series           inf\n",
      "19                model_ 7 Series           inf\n",
      "20                model_ 8 Series           inf\n",
      "21                 model_ A Class           inf\n",
      "22                      model_ A1           inf\n",
      "23                      model_ A2           inf\n",
      "24                      model_ A3           inf\n",
      "25                      model_ A4           inf\n",
      "26                      model_ A5           inf\n",
      "27                      model_ A6           inf\n",
      "28                      model_ A7           inf\n",
      "29                      model_ A8           inf\n",
      "30                 model_ B Class           inf\n",
      "31                   model_ B-MAX           inf\n",
      "32                 model_ C Class           inf\n",
      "33                   model_ C-MAX           inf\n",
      "34                model_ CL Class           inf\n",
      "35               model_ CLA Class           inf\n",
      "36               model_ CLC Class           inf\n",
      "37                     model_ CLK           inf\n",
      "38               model_ CLS Class           inf\n",
      "39                 model_ E Class           inf\n",
      "40                model_ EcoSport           inf\n",
      "41                    model_ Edge           inf\n",
      "42                  model_ Escort           inf\n",
      "43                  model_ Fiesta           inf\n",
      "44                   model_ Focus           inf\n",
      "45                  model_ Fusion           inf\n",
      "46                 model_ G Class           inf\n",
      "47                model_ GL Class           inf\n",
      "48               model_ GLA Class           inf\n",
      "49               model_ GLB Class           inf\n",
      "50               model_ GLC Class           inf\n",
      "51               model_ GLE Class           inf\n",
      "52               model_ GLS Class           inf\n",
      "53                  model_ Galaxy           inf\n",
      "54             model_ Grand C-MAX           inf\n",
      "55   model_ Grand Tourneo Connect           inf\n",
      "56                      model_ KA           inf\n",
      "57                     model_ Ka+           inf\n",
      "58                    model_ Kuga           inf\n",
      "59                 model_ M Class           inf\n",
      "60                      model_ M2           inf\n",
      "61                      model_ M3           inf\n",
      "62                      model_ M4           inf\n",
      "63                      model_ M5           inf\n",
      "64                      model_ M6           inf\n",
      "65                  model_ Mondeo           inf\n",
      "66                 model_ Mustang           inf\n",
      "67                    model_ Puma           inf\n",
      "68                      model_ Q2           inf\n",
      "69                      model_ Q3           inf\n",
      "70                      model_ Q5           inf\n",
      "71                      model_ Q7           inf\n",
      "72                      model_ Q8           inf\n",
      "73                 model_ R Class           inf\n",
      "74                      model_ R8           inf\n",
      "75                     model_ RS3           inf\n",
      "76                     model_ RS4           inf\n",
      "77                     model_ RS5           inf\n",
      "78                     model_ RS6           inf\n",
      "79                     model_ RS7           inf\n",
      "80                  model_ Ranger           inf\n",
      "81                 model_ S Class           inf\n",
      "82                   model_ S-MAX           inf\n",
      "83                      model_ S3           inf\n",
      "84                      model_ S4           inf\n",
      "85                      model_ S5           inf\n",
      "86                      model_ S8           inf\n",
      "87                model_ SL CLASS           inf\n",
      "88                     model_ SLK           inf\n",
      "89                     model_ SQ5           inf\n",
      "90                     model_ SQ7           inf\n",
      "91                model_ Streetka           inf\n",
      "92                      model_ TT           inf\n",
      "93         model_ Tourneo Connect           inf\n",
      "94          model_ Tourneo Custom           inf\n",
      "95         model_ Transit Tourneo           inf\n",
      "96                 model_ V Class           inf\n",
      "97                 model_ X-CLASS           inf\n",
      "98                      model_ X1           inf\n",
      "99                      model_ X2           inf\n",
      "100                     model_ X3           inf\n",
      "101                     model_ X4           inf\n",
      "102                     model_ X5           inf\n",
      "103                     model_ X6           inf\n",
      "104                     model_ X7           inf\n",
      "105                     model_ Z3           inf\n",
      "106                     model_ Z4           inf\n",
      "107                     model_ i3           inf\n",
      "108                     model_ i8           inf\n",
      "109                     model_180           inf\n",
      "110                  model_CLA200           inf\n",
      "111                    model_E220           inf\n",
      "112                    model_E230           inf\n",
      "113              Manufacture_Audi           inf\n",
      "114               Manufacture_BMW           inf\n",
      "115              Manufacture_Ford           inf\n",
      "116          Manufacture_Mercedes           inf\n"
     ]
    }
   ],
   "source": [
    "# the independent variables set \n",
    "X = data1[['price']] \n",
    "X= data1.drop(['price'],axis=1)\n",
    "# VIF dataframe \n",
    "vif_data = pd.DataFrame() \n",
    "vif_data[\"feature\"] = X.columns \n",
    "# calculating VIF for each feature \n",
    "vif_data[\"VIF\"] = [variance_inflation_factor(X.values, i) \n",
    "                          for i in range(len(X.columns))] \n",
    "pd.set_option('display.max_rows', vif_data.shape[0]+1)\n",
    "print(vif_data)"
   ]
  },
  {
   "cell_type": "markdown",
   "metadata": {},
   "source": [
    "## we can se car_age has higher multicollinearity"
   ]
  },
  {
   "cell_type": "markdown",
   "metadata": {},
   "source": [
    "## to avoid multi-collinearity we are dropping some columns from X "
   ]
  },
  {
   "cell_type": "code",
   "execution_count": 35,
   "metadata": {},
   "outputs": [
    {
     "data": {
      "text/html": [
       "<table class=\"simpletable\">\n",
       "<caption>OLS Regression Results</caption>\n",
       "<tr>\n",
       "  <th>Dep. Variable:</th>          <td>price</td>      <th>  R-squared:         </th>  <td>   0.854</td>  \n",
       "</tr>\n",
       "<tr>\n",
       "  <th>Model:</th>                   <td>OLS</td>       <th>  Adj. R-squared:    </th>  <td>   0.854</td>  \n",
       "</tr>\n",
       "<tr>\n",
       "  <th>Method:</th>             <td>Least Squares</td>  <th>  F-statistic:       </th>  <td>   2810.</td>  \n",
       "</tr>\n",
       "<tr>\n",
       "  <th>Date:</th>             <td>Tue, 01 Dec 2020</td> <th>  Prob (F-statistic):</th>   <td>  0.00</td>   \n",
       "</tr>\n",
       "<tr>\n",
       "  <th>Time:</th>                 <td>22:19:20</td>     <th>  Log-Likelihood:    </th> <td>-5.1402e+05</td>\n",
       "</tr>\n",
       "<tr>\n",
       "  <th>No. Observations:</th>      <td> 52533</td>      <th>  AIC:               </th>  <td>1.028e+06</td> \n",
       "</tr>\n",
       "<tr>\n",
       "  <th>Df Residuals:</th>          <td> 52423</td>      <th>  BIC:               </th>  <td>1.029e+06</td> \n",
       "</tr>\n",
       "<tr>\n",
       "  <th>Df Model:</th>              <td>   109</td>      <th>                     </th>      <td> </td>     \n",
       "</tr>\n",
       "<tr>\n",
       "  <th>Covariance Type:</th>      <td>nonrobust</td>    <th>                     </th>      <td> </td>     \n",
       "</tr>\n",
       "</table>\n",
       "<table class=\"simpletable\">\n",
       "<tr>\n",
       "                <td></td>                  <th>coef</th>     <th>std err</th>      <th>t</th>      <th>P>|t|</th>  <th>[0.025</th>    <th>0.975]</th>  \n",
       "</tr>\n",
       "<tr>\n",
       "  <th>year</th>                         <td> 1726.7707</td> <td>   13.946</td> <td>  123.816</td> <td> 0.000</td> <td> 1699.436</td> <td> 1754.105</td>\n",
       "</tr>\n",
       "<tr>\n",
       "  <th>tax</th>                          <td>  -16.0927</td> <td>    0.376</td> <td>  -42.803</td> <td> 0.000</td> <td>  -16.830</td> <td>  -15.356</td>\n",
       "</tr>\n",
       "<tr>\n",
       "  <th>mpg</th>                          <td> -136.9829</td> <td>    2.565</td> <td>  -53.411</td> <td> 0.000</td> <td> -142.010</td> <td> -131.956</td>\n",
       "</tr>\n",
       "<tr>\n",
       "  <th>engineSize</th>                   <td> 6328.7661</td> <td>   56.779</td> <td>  111.464</td> <td> 0.000</td> <td> 6217.479</td> <td> 6440.053</td>\n",
       "</tr>\n",
       "<tr>\n",
       "  <th>mileage</th>                      <td>   -0.1006</td> <td>    0.001</td> <td>  -73.017</td> <td> 0.000</td> <td>   -0.103</td> <td>   -0.098</td>\n",
       "</tr>\n",
       "<tr>\n",
       "  <th>transmission_Automatic</th>       <td>-1.365e+06</td> <td> 1.11e+04</td> <td> -122.667</td> <td> 0.000</td> <td>-1.39e+06</td> <td>-1.34e+06</td>\n",
       "</tr>\n",
       "<tr>\n",
       "  <th>transmission_Manual</th>          <td>-1.366e+06</td> <td> 1.11e+04</td> <td> -122.768</td> <td> 0.000</td> <td>-1.39e+06</td> <td>-1.34e+06</td>\n",
       "</tr>\n",
       "<tr>\n",
       "  <th>transmission_Semi-Auto</th>       <td>-1.365e+06</td> <td> 1.11e+04</td> <td> -122.591</td> <td> 0.000</td> <td>-1.39e+06</td> <td>-1.34e+06</td>\n",
       "</tr>\n",
       "<tr>\n",
       "  <th>fuelType_Diesel</th>              <td>-1.026e+06</td> <td> 8361.802</td> <td> -122.755</td> <td> 0.000</td> <td>-1.04e+06</td> <td>-1.01e+06</td>\n",
       "</tr>\n",
       "<tr>\n",
       "  <th>fuelType_Electric</th>            <td>-1.028e+06</td> <td> 8581.351</td> <td> -119.813</td> <td> 0.000</td> <td>-1.04e+06</td> <td>-1.01e+06</td>\n",
       "</tr>\n",
       "<tr>\n",
       "  <th>fuelType_Hybrid</th>              <td>-1.016e+06</td> <td> 8368.144</td> <td> -121.384</td> <td> 0.000</td> <td>-1.03e+06</td> <td>-9.99e+05</td>\n",
       "</tr>\n",
       "<tr>\n",
       "  <th>fuelType_Petrol</th>              <td>-1.026e+06</td> <td> 8359.459</td> <td> -122.676</td> <td> 0.000</td> <td>-1.04e+06</td> <td>-1.01e+06</td>\n",
       "</tr>\n",
       "<tr>\n",
       "  <th>model_ 1 Series</th>              <td>-5.651e+04</td> <td>  406.585</td> <td> -138.985</td> <td> 0.000</td> <td>-5.73e+04</td> <td>-5.57e+04</td>\n",
       "</tr>\n",
       "<tr>\n",
       "  <th>model_ 2 Series</th>              <td>-5.649e+04</td> <td>  416.643</td> <td> -135.577</td> <td> 0.000</td> <td>-5.73e+04</td> <td>-5.57e+04</td>\n",
       "</tr>\n",
       "<tr>\n",
       "  <th>model_ 3 Series</th>              <td>-5.437e+04</td> <td>  407.682</td> <td> -133.363</td> <td> 0.000</td> <td>-5.52e+04</td> <td>-5.36e+04</td>\n",
       "</tr>\n",
       "<tr>\n",
       "  <th>model_ 4 Series</th>              <td>-5.452e+04</td> <td>  420.826</td> <td> -129.557</td> <td> 0.000</td> <td>-5.53e+04</td> <td>-5.37e+04</td>\n",
       "</tr>\n",
       "<tr>\n",
       "  <th>model_ 5 Series</th>              <td>-5.248e+04</td> <td>  419.526</td> <td> -125.084</td> <td> 0.000</td> <td>-5.33e+04</td> <td>-5.17e+04</td>\n",
       "</tr>\n",
       "<tr>\n",
       "  <th>model_ 6 Series</th>              <td>-5.394e+04</td> <td>  559.655</td> <td>  -96.373</td> <td> 0.000</td> <td> -5.5e+04</td> <td>-5.28e+04</td>\n",
       "</tr>\n",
       "<tr>\n",
       "  <th>model_ 7 Series</th>              <td>-4.607e+04</td> <td>  568.142</td> <td>  -81.082</td> <td> 0.000</td> <td>-4.72e+04</td> <td> -4.5e+04</td>\n",
       "</tr>\n",
       "<tr>\n",
       "  <th>model_ 8 Series</th>              <td> -2.76e+04</td> <td>  780.945</td> <td>  -35.340</td> <td> 0.000</td> <td>-2.91e+04</td> <td>-2.61e+04</td>\n",
       "</tr>\n",
       "<tr>\n",
       "  <th>model_ A Class</th>               <td>-4.378e+04</td> <td>  486.820</td> <td>  -89.924</td> <td> 0.000</td> <td>-4.47e+04</td> <td>-4.28e+04</td>\n",
       "</tr>\n",
       "<tr>\n",
       "  <th>model_ A1</th>                    <td>-5.064e+04</td> <td>  446.156</td> <td> -113.505</td> <td> 0.000</td> <td>-5.15e+04</td> <td>-4.98e+04</td>\n",
       "</tr>\n",
       "<tr>\n",
       "  <th>model_ A2</th>                    <td>-3.025e+04</td> <td> 4154.175</td> <td>   -7.282</td> <td> 0.000</td> <td>-3.84e+04</td> <td>-2.21e+04</td>\n",
       "</tr>\n",
       "<tr>\n",
       "  <th>model_ A3</th>                    <td>-4.896e+04</td> <td>  443.432</td> <td> -110.411</td> <td> 0.000</td> <td>-4.98e+04</td> <td>-4.81e+04</td>\n",
       "</tr>\n",
       "<tr>\n",
       "  <th>model_ A4</th>                    <td>-4.885e+04</td> <td>  450.130</td> <td> -108.526</td> <td> 0.000</td> <td>-4.97e+04</td> <td> -4.8e+04</td>\n",
       "</tr>\n",
       "<tr>\n",
       "  <th>model_ A5</th>                    <td> -4.74e+04</td> <td>  455.931</td> <td> -103.958</td> <td> 0.000</td> <td>-4.83e+04</td> <td>-4.65e+04</td>\n",
       "</tr>\n",
       "<tr>\n",
       "  <th>model_ A6</th>                    <td>-4.658e+04</td> <td>  461.755</td> <td> -100.874</td> <td> 0.000</td> <td>-4.75e+04</td> <td>-4.57e+04</td>\n",
       "</tr>\n",
       "<tr>\n",
       "  <th>model_ A7</th>                    <td>-4.647e+04</td> <td>  573.283</td> <td>  -81.056</td> <td> 0.000</td> <td>-4.76e+04</td> <td>-4.53e+04</td>\n",
       "</tr>\n",
       "<tr>\n",
       "  <th>model_ A8</th>                    <td> -4.31e+04</td> <td>  576.496</td> <td>  -74.767</td> <td> 0.000</td> <td>-4.42e+04</td> <td> -4.2e+04</td>\n",
       "</tr>\n",
       "<tr>\n",
       "  <th>model_ B Class</th>               <td>-4.593e+04</td> <td>  508.342</td> <td>  -90.362</td> <td> 0.000</td> <td>-4.69e+04</td> <td>-4.49e+04</td>\n",
       "</tr>\n",
       "<tr>\n",
       "  <th>model_ B-MAX</th>                 <td>-4.891e+04</td> <td>  550.036</td> <td>  -88.924</td> <td> 0.000</td> <td>   -5e+04</td> <td>-4.78e+04</td>\n",
       "</tr>\n",
       "<tr>\n",
       "  <th>model_ C Class</th>               <td>-4.293e+04</td> <td>  485.307</td> <td>  -88.459</td> <td> 0.000</td> <td>-4.39e+04</td> <td> -4.2e+04</td>\n",
       "</tr>\n",
       "<tr>\n",
       "  <th>model_ C-MAX</th>                 <td> -4.79e+04</td> <td>  539.240</td> <td>  -88.836</td> <td> 0.000</td> <td> -4.9e+04</td> <td>-4.68e+04</td>\n",
       "</tr>\n",
       "<tr>\n",
       "  <th>model_ CL Class</th>              <td> -4.38e+04</td> <td>  513.055</td> <td>  -85.364</td> <td> 0.000</td> <td>-4.48e+04</td> <td>-4.28e+04</td>\n",
       "</tr>\n",
       "<tr>\n",
       "  <th>model_ CLA Class</th>             <td>-4.329e+04</td> <td>  658.422</td> <td>  -65.743</td> <td> 0.000</td> <td>-4.46e+04</td> <td> -4.2e+04</td>\n",
       "</tr>\n",
       "<tr>\n",
       "  <th>model_ CLC Class</th>             <td>-4.263e+04</td> <td> 2433.251</td> <td>  -17.519</td> <td> 0.000</td> <td>-4.74e+04</td> <td>-3.79e+04</td>\n",
       "</tr>\n",
       "<tr>\n",
       "  <th>model_ CLK</th>                   <td>-3.719e+04</td> <td> 1624.131</td> <td>  -22.899</td> <td> 0.000</td> <td>-4.04e+04</td> <td> -3.4e+04</td>\n",
       "</tr>\n",
       "<tr>\n",
       "  <th>model_ CLS Class</th>             <td>-4.166e+04</td> <td>  548.631</td> <td>  -75.932</td> <td> 0.000</td> <td>-4.27e+04</td> <td>-4.06e+04</td>\n",
       "</tr>\n",
       "<tr>\n",
       "  <th>model_ E Class</th>               <td> -4.11e+04</td> <td>  489.680</td> <td>  -83.938</td> <td> 0.000</td> <td>-4.21e+04</td> <td>-4.01e+04</td>\n",
       "</tr>\n",
       "<tr>\n",
       "  <th>model_ EcoSport</th>              <td>-4.765e+04</td> <td>  531.153</td> <td>  -89.711</td> <td> 0.000</td> <td>-4.87e+04</td> <td>-4.66e+04</td>\n",
       "</tr>\n",
       "<tr>\n",
       "  <th>model_ Edge</th>                  <td>-4.246e+04</td> <td>  593.352</td> <td>  -71.567</td> <td> 0.000</td> <td>-4.36e+04</td> <td>-4.13e+04</td>\n",
       "</tr>\n",
       "<tr>\n",
       "  <th>model_ Escort</th>                <td>-2.142e+04</td> <td> 4133.971</td> <td>   -5.180</td> <td> 0.000</td> <td>-2.95e+04</td> <td>-1.33e+04</td>\n",
       "</tr>\n",
       "<tr>\n",
       "  <th>model_ Fiesta</th>                <td>-4.757e+04</td> <td>  517.064</td> <td>  -92.007</td> <td> 0.000</td> <td>-4.86e+04</td> <td>-4.66e+04</td>\n",
       "</tr>\n",
       "<tr>\n",
       "  <th>model_ Focus</th>                 <td> -4.61e+04</td> <td>  520.805</td> <td>  -88.525</td> <td> 0.000</td> <td>-4.71e+04</td> <td>-4.51e+04</td>\n",
       "</tr>\n",
       "<tr>\n",
       "  <th>model_ Fusion</th>                <td>-3.895e+04</td> <td> 1127.968</td> <td>  -34.535</td> <td> 0.000</td> <td>-4.12e+04</td> <td>-3.67e+04</td>\n",
       "</tr>\n",
       "<tr>\n",
       "  <th>model_ G Class</th>               <td> 1.926e+04</td> <td> 1176.524</td> <td>   16.372</td> <td> 0.000</td> <td>  1.7e+04</td> <td> 2.16e+04</td>\n",
       "</tr>\n",
       "<tr>\n",
       "  <th>model_ GL Class</th>              <td>-4.182e+04</td> <td>  604.893</td> <td>  -69.133</td> <td> 0.000</td> <td> -4.3e+04</td> <td>-4.06e+04</td>\n",
       "</tr>\n",
       "<tr>\n",
       "  <th>model_ GLA Class</th>             <td>-4.499e+04</td> <td>  498.957</td> <td>  -90.174</td> <td> 0.000</td> <td> -4.6e+04</td> <td> -4.4e+04</td>\n",
       "</tr>\n",
       "<tr>\n",
       "  <th>model_ GLB Class</th>             <td>-3.588e+04</td> <td> 1070.169</td> <td>  -33.531</td> <td> 0.000</td> <td> -3.8e+04</td> <td>-3.38e+04</td>\n",
       "</tr>\n",
       "<tr>\n",
       "  <th>model_ GLC Class</th>             <td>-3.708e+04</td> <td>  501.255</td> <td>  -73.979</td> <td> 0.000</td> <td>-3.81e+04</td> <td>-3.61e+04</td>\n",
       "</tr>\n",
       "<tr>\n",
       "  <th>model_ GLE Class</th>             <td>-3.286e+04</td> <td>  520.366</td> <td>  -63.143</td> <td> 0.000</td> <td>-3.39e+04</td> <td>-3.18e+04</td>\n",
       "</tr>\n",
       "<tr>\n",
       "  <th>model_ GLS Class</th>             <td>-2.865e+04</td> <td>  684.811</td> <td>  -41.842</td> <td> 0.000</td> <td>   -3e+04</td> <td>-2.73e+04</td>\n",
       "</tr>\n",
       "<tr>\n",
       "  <th>model_ Galaxy</th>                <td>-4.342e+04</td> <td>  585.743</td> <td>  -74.134</td> <td> 0.000</td> <td>-4.46e+04</td> <td>-4.23e+04</td>\n",
       "</tr>\n",
       "<tr>\n",
       "  <th>model_ Grand C-MAX</th>           <td>-4.765e+04</td> <td>  575.219</td> <td>  -82.840</td> <td> 0.000</td> <td>-4.88e+04</td> <td>-4.65e+04</td>\n",
       "</tr>\n",
       "<tr>\n",
       "  <th>model_ Grand Tourneo Connect</th> <td>-4.521e+04</td> <td>  745.996</td> <td>  -60.598</td> <td> 0.000</td> <td>-4.67e+04</td> <td>-4.37e+04</td>\n",
       "</tr>\n",
       "<tr>\n",
       "  <th>model_ KA</th>                    <td>-4.818e+04</td> <td>  576.658</td> <td>  -83.549</td> <td> 0.000</td> <td>-4.93e+04</td> <td> -4.7e+04</td>\n",
       "</tr>\n",
       "<tr>\n",
       "  <th>model_ Ka+</th>                   <td>-5.299e+04</td> <td>  548.142</td> <td>  -96.663</td> <td> 0.000</td> <td>-5.41e+04</td> <td>-5.19e+04</td>\n",
       "</tr>\n",
       "<tr>\n",
       "  <th>model_ Kuga</th>                  <td>-4.683e+04</td> <td>  526.058</td> <td>  -89.016</td> <td> 0.000</td> <td>-4.79e+04</td> <td>-4.58e+04</td>\n",
       "</tr>\n",
       "<tr>\n",
       "  <th>model_ M Class</th>               <td>-3.937e+04</td> <td>  658.451</td> <td>  -59.786</td> <td> 0.000</td> <td>-4.07e+04</td> <td>-3.81e+04</td>\n",
       "</tr>\n",
       "<tr>\n",
       "  <th>model_ M2</th>                    <td>-4.691e+04</td> <td>  990.283</td> <td>  -47.371</td> <td> 0.000</td> <td>-4.89e+04</td> <td> -4.5e+04</td>\n",
       "</tr>\n",
       "<tr>\n",
       "  <th>model_ M3</th>                    <td>-4.465e+04</td> <td>  877.714</td> <td>  -50.865</td> <td> 0.000</td> <td>-4.64e+04</td> <td>-4.29e+04</td>\n",
       "</tr>\n",
       "<tr>\n",
       "  <th>model_ M4</th>                    <td>-4.389e+04</td> <td>  548.797</td> <td>  -79.982</td> <td> 0.000</td> <td> -4.5e+04</td> <td>-4.28e+04</td>\n",
       "</tr>\n",
       "<tr>\n",
       "  <th>model_ M5</th>                    <td> -3.69e+04</td> <td>  874.967</td> <td>  -42.169</td> <td> 0.000</td> <td>-3.86e+04</td> <td>-3.52e+04</td>\n",
       "</tr>\n",
       "<tr>\n",
       "  <th>model_ M6</th>                    <td>-5.054e+04</td> <td> 1514.542</td> <td>  -33.371</td> <td> 0.000</td> <td>-5.35e+04</td> <td>-4.76e+04</td>\n",
       "</tr>\n",
       "<tr>\n",
       "  <th>model_ Mondeo</th>                <td>-4.672e+04</td> <td>  554.394</td> <td>  -84.270</td> <td> 0.000</td> <td>-4.78e+04</td> <td>-4.56e+04</td>\n",
       "</tr>\n",
       "<tr>\n",
       "  <th>model_ Mustang</th>               <td>-5.162e+04</td> <td>  775.523</td> <td>  -66.558</td> <td> 0.000</td> <td>-5.31e+04</td> <td>-5.01e+04</td>\n",
       "</tr>\n",
       "<tr>\n",
       "  <th>model_ Puma</th>                  <td> -4.24e+04</td> <td>  698.361</td> <td>  -60.710</td> <td> 0.000</td> <td>-4.38e+04</td> <td> -4.1e+04</td>\n",
       "</tr>\n",
       "<tr>\n",
       "  <th>model_ Q2</th>                    <td>-4.843e+04</td> <td>  460.901</td> <td> -105.079</td> <td> 0.000</td> <td>-4.93e+04</td> <td>-4.75e+04</td>\n",
       "</tr>\n",
       "<tr>\n",
       "  <th>model_ Q3</th>                    <td>-4.678e+04</td> <td>  446.969</td> <td> -104.669</td> <td> 0.000</td> <td>-4.77e+04</td> <td>-4.59e+04</td>\n",
       "</tr>\n",
       "<tr>\n",
       "  <th>model_ Q5</th>                    <td>-4.244e+04</td> <td>  456.383</td> <td>  -92.983</td> <td> 0.000</td> <td>-4.33e+04</td> <td>-4.15e+04</td>\n",
       "</tr>\n",
       "<tr>\n",
       "  <th>model_ Q7</th>                    <td>-3.518e+04</td> <td>  488.152</td> <td>  -72.073</td> <td> 0.000</td> <td>-3.61e+04</td> <td>-3.42e+04</td>\n",
       "</tr>\n",
       "<tr>\n",
       "  <th>model_ Q8</th>                    <td>-2.415e+04</td> <td>  668.182</td> <td>  -36.138</td> <td> 0.000</td> <td>-2.55e+04</td> <td>-2.28e+04</td>\n",
       "</tr>\n",
       "<tr>\n",
       "  <th>model_ R Class</th>               <td>-4.145e+04</td> <td> 2964.942</td> <td>  -13.979</td> <td> 0.000</td> <td>-4.73e+04</td> <td>-3.56e+04</td>\n",
       "</tr>\n",
       "<tr>\n",
       "  <th>model_ R8</th>                    <td> 5845.0742</td> <td>  903.615</td> <td>    6.469</td> <td> 0.000</td> <td> 4073.981</td> <td> 7616.168</td>\n",
       "</tr>\n",
       "<tr>\n",
       "  <th>model_ RS3</th>                   <td>-4.081e+04</td> <td>  841.442</td> <td>  -48.502</td> <td> 0.000</td> <td>-4.25e+04</td> <td>-3.92e+04</td>\n",
       "</tr>\n",
       "<tr>\n",
       "  <th>model_ RS4</th>                   <td>-3.042e+04</td> <td>  863.696</td> <td>  -35.215</td> <td> 0.000</td> <td>-3.21e+04</td> <td>-2.87e+04</td>\n",
       "</tr>\n",
       "<tr>\n",
       "  <th>model_ RS5</th>                   <td>-3.136e+04</td> <td>  885.910</td> <td>  -35.396</td> <td> 0.000</td> <td>-3.31e+04</td> <td>-2.96e+04</td>\n",
       "</tr>\n",
       "<tr>\n",
       "  <th>model_ RS6</th>                   <td>-2.658e+04</td> <td>  797.459</td> <td>  -33.328</td> <td> 0.000</td> <td>-2.81e+04</td> <td> -2.5e+04</td>\n",
       "</tr>\n",
       "<tr>\n",
       "  <th>model_ RS7</th>                   <td>-3.756e+04</td> <td> 4163.423</td> <td>   -9.020</td> <td> 0.000</td> <td>-4.57e+04</td> <td>-2.94e+04</td>\n",
       "</tr>\n",
       "<tr>\n",
       "  <th>model_ Ranger</th>                <td> -4.46e+04</td> <td> 4152.577</td> <td>  -10.741</td> <td> 0.000</td> <td>-5.27e+04</td> <td>-3.65e+04</td>\n",
       "</tr>\n",
       "<tr>\n",
       "  <th>model_ S Class</th>               <td>-2.861e+04</td> <td>  562.391</td> <td>  -50.872</td> <td> 0.000</td> <td>-2.97e+04</td> <td>-2.75e+04</td>\n",
       "</tr>\n",
       "<tr>\n",
       "  <th>model_ S-MAX</th>                 <td>-4.395e+04</td> <td>  571.283</td> <td>  -76.937</td> <td> 0.000</td> <td>-4.51e+04</td> <td>-4.28e+04</td>\n",
       "</tr>\n",
       "<tr>\n",
       "  <th>model_ S3</th>                    <td>-4.548e+04</td> <td> 1064.212</td> <td>  -42.732</td> <td> 0.000</td> <td>-4.76e+04</td> <td>-4.34e+04</td>\n",
       "</tr>\n",
       "<tr>\n",
       "  <th>model_ S4</th>                    <td>-4.022e+04</td> <td> 1266.592</td> <td>  -31.751</td> <td> 0.000</td> <td>-4.27e+04</td> <td>-3.77e+04</td>\n",
       "</tr>\n",
       "<tr>\n",
       "  <th>model_ S5</th>                    <td>-5.032e+04</td> <td> 2425.116</td> <td>  -20.749</td> <td> 0.000</td> <td>-5.51e+04</td> <td>-4.56e+04</td>\n",
       "</tr>\n",
       "<tr>\n",
       "  <th>model_ S8</th>                    <td>-4.681e+04</td> <td> 2116.011</td> <td>  -22.122</td> <td> 0.000</td> <td> -5.1e+04</td> <td>-4.27e+04</td>\n",
       "</tr>\n",
       "<tr>\n",
       "  <th>model_ SL CLASS</th>              <td>-3.995e+04</td> <td>  541.522</td> <td>  -73.773</td> <td> 0.000</td> <td> -4.1e+04</td> <td>-3.89e+04</td>\n",
       "</tr>\n",
       "<tr>\n",
       "  <th>model_ SLK</th>                   <td>-4.195e+04</td> <td>  610.762</td> <td>  -68.686</td> <td> 0.000</td> <td>-4.31e+04</td> <td>-4.08e+04</td>\n",
       "</tr>\n",
       "<tr>\n",
       "  <th>model_ SQ5</th>                   <td>-3.997e+04</td> <td> 1123.989</td> <td>  -35.557</td> <td> 0.000</td> <td>-4.22e+04</td> <td>-3.78e+04</td>\n",
       "</tr>\n",
       "<tr>\n",
       "  <th>model_ SQ7</th>                   <td>-3.294e+04</td> <td> 1529.543</td> <td>  -21.537</td> <td> 0.000</td> <td>-3.59e+04</td> <td>-2.99e+04</td>\n",
       "</tr>\n",
       "<tr>\n",
       "  <th>model_ Streetka</th>              <td>-3.537e+04</td> <td> 2945.119</td> <td>  -12.008</td> <td> 0.000</td> <td>-4.11e+04</td> <td>-2.96e+04</td>\n",
       "</tr>\n",
       "<tr>\n",
       "  <th>model_ TT</th>                    <td>-4.698e+04</td> <td>  483.804</td> <td>  -97.113</td> <td> 0.000</td> <td>-4.79e+04</td> <td> -4.6e+04</td>\n",
       "</tr>\n",
       "<tr>\n",
       "  <th>model_ Tourneo Connect</th>       <td>-4.598e+04</td> <td>  883.148</td> <td>  -52.067</td> <td> 0.000</td> <td>-4.77e+04</td> <td>-4.43e+04</td>\n",
       "</tr>\n",
       "<tr>\n",
       "  <th>model_ Tourneo Custom</th>        <td>-4.507e+04</td> <td>  723.076</td> <td>  -62.329</td> <td> 0.000</td> <td>-4.65e+04</td> <td>-4.37e+04</td>\n",
       "</tr>\n",
       "<tr>\n",
       "  <th>model_ Transit Tourneo</th>       <td>-4.711e+04</td> <td> 4146.272</td> <td>  -11.363</td> <td> 0.000</td> <td>-5.52e+04</td> <td> -3.9e+04</td>\n",
       "</tr>\n",
       "<tr>\n",
       "  <th>model_ V Class</th>               <td>-3.656e+04</td> <td>  564.823</td> <td>  -64.721</td> <td> 0.000</td> <td>-3.77e+04</td> <td>-3.54e+04</td>\n",
       "</tr>\n",
       "<tr>\n",
       "  <th>model_ X-CLASS</th>               <td>-4.294e+04</td> <td>  668.416</td> <td>  -64.241</td> <td> 0.000</td> <td>-4.42e+04</td> <td>-4.16e+04</td>\n",
       "</tr>\n",
       "<tr>\n",
       "  <th>model_ X1</th>                    <td>-5.386e+04</td> <td>  422.807</td> <td> -127.384</td> <td> 0.000</td> <td>-5.47e+04</td> <td> -5.3e+04</td>\n",
       "</tr>\n",
       "<tr>\n",
       "  <th>model_ X2</th>                    <td> -5.26e+04</td> <td>  472.680</td> <td> -111.271</td> <td> 0.000</td> <td>-5.35e+04</td> <td>-5.17e+04</td>\n",
       "</tr>\n",
       "<tr>\n",
       "  <th>model_ X3</th>                    <td>-4.876e+04</td> <td>  438.437</td> <td> -111.215</td> <td> 0.000</td> <td>-4.96e+04</td> <td>-4.79e+04</td>\n",
       "</tr>\n",
       "<tr>\n",
       "  <th>model_ X4</th>                    <td>-4.816e+04</td> <td>  510.642</td> <td>  -94.310</td> <td> 0.000</td> <td>-4.92e+04</td> <td>-4.72e+04</td>\n",
       "</tr>\n",
       "<tr>\n",
       "  <th>model_ X5</th>                    <td>-4.262e+04</td> <td>  449.705</td> <td>  -94.780</td> <td> 0.000</td> <td>-4.35e+04</td> <td>-4.17e+04</td>\n",
       "</tr>\n",
       "<tr>\n",
       "  <th>model_ X6</th>                    <td>-4.043e+04</td> <td>  570.779</td> <td>  -70.833</td> <td> 0.000</td> <td>-4.15e+04</td> <td>-3.93e+04</td>\n",
       "</tr>\n",
       "<tr>\n",
       "  <th>model_ X7</th>                    <td>-1.973e+04</td> <td>  695.923</td> <td>  -28.344</td> <td> 0.000</td> <td>-2.11e+04</td> <td>-1.84e+04</td>\n",
       "</tr>\n",
       "<tr>\n",
       "  <th>model_ Z3</th>                    <td>-3.544e+04</td> <td> 1577.390</td> <td>  -22.469</td> <td> 0.000</td> <td>-3.85e+04</td> <td>-3.24e+04</td>\n",
       "</tr>\n",
       "<tr>\n",
       "  <th>model_ Z4</th>                    <td> -5.23e+04</td> <td>  559.874</td> <td>  -93.405</td> <td> 0.000</td> <td>-5.34e+04</td> <td>-5.12e+04</td>\n",
       "</tr>\n",
       "<tr>\n",
       "  <th>model_ i3</th>                    <td> 1.557e+04</td> <td> 2675.358</td> <td>    5.819</td> <td> 0.000</td> <td> 1.03e+04</td> <td> 2.08e+04</td>\n",
       "</tr>\n",
       "<tr>\n",
       "  <th>model_ i8</th>                    <td>-1.462e+04</td> <td> 1082.780</td> <td>  -13.505</td> <td> 0.000</td> <td>-1.67e+04</td> <td>-1.25e+04</td>\n",
       "</tr>\n",
       "<tr>\n",
       "  <th>model_180</th>                    <td>-4.255e+04</td> <td> 4170.356</td> <td>  -10.204</td> <td> 0.000</td> <td>-5.07e+04</td> <td>-3.44e+04</td>\n",
       "</tr>\n",
       "<tr>\n",
       "  <th>model_CLA200</th>                 <td>-4.674e+04</td> <td> 4172.810</td> <td>  -11.200</td> <td> 0.000</td> <td>-5.49e+04</td> <td>-3.86e+04</td>\n",
       "</tr>\n",
       "<tr>\n",
       "  <th>model_E220</th>                   <td>-4.676e+04</td> <td> 4171.985</td> <td>  -11.208</td> <td> 0.000</td> <td>-5.49e+04</td> <td>-3.86e+04</td>\n",
       "</tr>\n",
       "<tr>\n",
       "  <th>model_E230</th>                   <td>-3.598e+04</td> <td> 4169.514</td> <td>   -8.630</td> <td> 0.000</td> <td>-4.42e+04</td> <td>-2.78e+04</td>\n",
       "</tr>\n",
       "<tr>\n",
       "  <th>Manufacture_Audi</th>             <td>-1.023e+06</td> <td> 8373.625</td> <td> -122.147</td> <td> 0.000</td> <td>-1.04e+06</td> <td>-1.01e+06</td>\n",
       "</tr>\n",
       "<tr>\n",
       "  <th>Manufacture_BMW</th>              <td>-1.018e+06</td> <td> 8339.604</td> <td> -122.044</td> <td> 0.000</td> <td>-1.03e+06</td> <td>   -1e+06</td>\n",
       "</tr>\n",
       "<tr>\n",
       "  <th>Manufacture_Ford</th>             <td>-1.028e+06</td> <td> 8314.308</td> <td> -123.651</td> <td> 0.000</td> <td>-1.04e+06</td> <td>-1.01e+06</td>\n",
       "</tr>\n",
       "<tr>\n",
       "  <th>Manufacture_Mercedes</th>         <td>-1.027e+06</td> <td> 8375.959</td> <td> -122.635</td> <td> 0.000</td> <td>-1.04e+06</td> <td>-1.01e+06</td>\n",
       "</tr>\n",
       "</table>\n",
       "<table class=\"simpletable\">\n",
       "<tr>\n",
       "  <th>Omnibus:</th>       <td>50781.608</td> <th>  Durbin-Watson:     </th>   <td>   1.670</td>  \n",
       "</tr>\n",
       "<tr>\n",
       "  <th>Prob(Omnibus):</th>  <td> 0.000</td>   <th>  Jarque-Bera (JB):  </th> <td>10274852.031</td>\n",
       "</tr>\n",
       "<tr>\n",
       "  <th>Skew:</th>           <td> 4.200</td>   <th>  Prob(JB):          </th>   <td>    0.00</td>  \n",
       "</tr>\n",
       "<tr>\n",
       "  <th>Kurtosis:</th>       <td>70.997</td>   <th>  Cond. No.          </th>   <td>1.26e+19</td>  \n",
       "</tr>\n",
       "</table><br/><br/>Warnings:<br/>[1] Standard Errors assume that the covariance matrix of the errors is correctly specified.<br/>[2] The smallest eigenvalue is 3.5e-25. This might indicate that there are<br/>strong multicollinearity problems or that the design matrix is singular."
      ],
      "text/plain": [
       "<class 'statsmodels.iolib.summary.Summary'>\n",
       "\"\"\"\n",
       "                            OLS Regression Results                            \n",
       "==============================================================================\n",
       "Dep. Variable:                  price   R-squared:                       0.854\n",
       "Model:                            OLS   Adj. R-squared:                  0.854\n",
       "Method:                 Least Squares   F-statistic:                     2810.\n",
       "Date:                Tue, 01 Dec 2020   Prob (F-statistic):               0.00\n",
       "Time:                        22:19:20   Log-Likelihood:            -5.1402e+05\n",
       "No. Observations:               52533   AIC:                         1.028e+06\n",
       "Df Residuals:                   52423   BIC:                         1.029e+06\n",
       "Df Model:                         109                                         \n",
       "Covariance Type:            nonrobust                                         \n",
       "================================================================================================\n",
       "                                   coef    std err          t      P>|t|      [0.025      0.975]\n",
       "------------------------------------------------------------------------------------------------\n",
       "year                          1726.7707     13.946    123.816      0.000    1699.436    1754.105\n",
       "tax                            -16.0927      0.376    -42.803      0.000     -16.830     -15.356\n",
       "mpg                           -136.9829      2.565    -53.411      0.000    -142.010    -131.956\n",
       "engineSize                    6328.7661     56.779    111.464      0.000    6217.479    6440.053\n",
       "mileage                         -0.1006      0.001    -73.017      0.000      -0.103      -0.098\n",
       "transmission_Automatic       -1.365e+06   1.11e+04   -122.667      0.000   -1.39e+06   -1.34e+06\n",
       "transmission_Manual          -1.366e+06   1.11e+04   -122.768      0.000   -1.39e+06   -1.34e+06\n",
       "transmission_Semi-Auto       -1.365e+06   1.11e+04   -122.591      0.000   -1.39e+06   -1.34e+06\n",
       "fuelType_Diesel              -1.026e+06   8361.802   -122.755      0.000   -1.04e+06   -1.01e+06\n",
       "fuelType_Electric            -1.028e+06   8581.351   -119.813      0.000   -1.04e+06   -1.01e+06\n",
       "fuelType_Hybrid              -1.016e+06   8368.144   -121.384      0.000   -1.03e+06   -9.99e+05\n",
       "fuelType_Petrol              -1.026e+06   8359.459   -122.676      0.000   -1.04e+06   -1.01e+06\n",
       "model_ 1 Series              -5.651e+04    406.585   -138.985      0.000   -5.73e+04   -5.57e+04\n",
       "model_ 2 Series              -5.649e+04    416.643   -135.577      0.000   -5.73e+04   -5.57e+04\n",
       "model_ 3 Series              -5.437e+04    407.682   -133.363      0.000   -5.52e+04   -5.36e+04\n",
       "model_ 4 Series              -5.452e+04    420.826   -129.557      0.000   -5.53e+04   -5.37e+04\n",
       "model_ 5 Series              -5.248e+04    419.526   -125.084      0.000   -5.33e+04   -5.17e+04\n",
       "model_ 6 Series              -5.394e+04    559.655    -96.373      0.000    -5.5e+04   -5.28e+04\n",
       "model_ 7 Series              -4.607e+04    568.142    -81.082      0.000   -4.72e+04    -4.5e+04\n",
       "model_ 8 Series               -2.76e+04    780.945    -35.340      0.000   -2.91e+04   -2.61e+04\n",
       "model_ A Class               -4.378e+04    486.820    -89.924      0.000   -4.47e+04   -4.28e+04\n",
       "model_ A1                    -5.064e+04    446.156   -113.505      0.000   -5.15e+04   -4.98e+04\n",
       "model_ A2                    -3.025e+04   4154.175     -7.282      0.000   -3.84e+04   -2.21e+04\n",
       "model_ A3                    -4.896e+04    443.432   -110.411      0.000   -4.98e+04   -4.81e+04\n",
       "model_ A4                    -4.885e+04    450.130   -108.526      0.000   -4.97e+04    -4.8e+04\n",
       "model_ A5                     -4.74e+04    455.931   -103.958      0.000   -4.83e+04   -4.65e+04\n",
       "model_ A6                    -4.658e+04    461.755   -100.874      0.000   -4.75e+04   -4.57e+04\n",
       "model_ A7                    -4.647e+04    573.283    -81.056      0.000   -4.76e+04   -4.53e+04\n",
       "model_ A8                     -4.31e+04    576.496    -74.767      0.000   -4.42e+04    -4.2e+04\n",
       "model_ B Class               -4.593e+04    508.342    -90.362      0.000   -4.69e+04   -4.49e+04\n",
       "model_ B-MAX                 -4.891e+04    550.036    -88.924      0.000      -5e+04   -4.78e+04\n",
       "model_ C Class               -4.293e+04    485.307    -88.459      0.000   -4.39e+04    -4.2e+04\n",
       "model_ C-MAX                  -4.79e+04    539.240    -88.836      0.000    -4.9e+04   -4.68e+04\n",
       "model_ CL Class               -4.38e+04    513.055    -85.364      0.000   -4.48e+04   -4.28e+04\n",
       "model_ CLA Class             -4.329e+04    658.422    -65.743      0.000   -4.46e+04    -4.2e+04\n",
       "model_ CLC Class             -4.263e+04   2433.251    -17.519      0.000   -4.74e+04   -3.79e+04\n",
       "model_ CLK                   -3.719e+04   1624.131    -22.899      0.000   -4.04e+04    -3.4e+04\n",
       "model_ CLS Class             -4.166e+04    548.631    -75.932      0.000   -4.27e+04   -4.06e+04\n",
       "model_ E Class                -4.11e+04    489.680    -83.938      0.000   -4.21e+04   -4.01e+04\n",
       "model_ EcoSport              -4.765e+04    531.153    -89.711      0.000   -4.87e+04   -4.66e+04\n",
       "model_ Edge                  -4.246e+04    593.352    -71.567      0.000   -4.36e+04   -4.13e+04\n",
       "model_ Escort                -2.142e+04   4133.971     -5.180      0.000   -2.95e+04   -1.33e+04\n",
       "model_ Fiesta                -4.757e+04    517.064    -92.007      0.000   -4.86e+04   -4.66e+04\n",
       "model_ Focus                  -4.61e+04    520.805    -88.525      0.000   -4.71e+04   -4.51e+04\n",
       "model_ Fusion                -3.895e+04   1127.968    -34.535      0.000   -4.12e+04   -3.67e+04\n",
       "model_ G Class                1.926e+04   1176.524     16.372      0.000     1.7e+04    2.16e+04\n",
       "model_ GL Class              -4.182e+04    604.893    -69.133      0.000    -4.3e+04   -4.06e+04\n",
       "model_ GLA Class             -4.499e+04    498.957    -90.174      0.000    -4.6e+04    -4.4e+04\n",
       "model_ GLB Class             -3.588e+04   1070.169    -33.531      0.000    -3.8e+04   -3.38e+04\n",
       "model_ GLC Class             -3.708e+04    501.255    -73.979      0.000   -3.81e+04   -3.61e+04\n",
       "model_ GLE Class             -3.286e+04    520.366    -63.143      0.000   -3.39e+04   -3.18e+04\n",
       "model_ GLS Class             -2.865e+04    684.811    -41.842      0.000      -3e+04   -2.73e+04\n",
       "model_ Galaxy                -4.342e+04    585.743    -74.134      0.000   -4.46e+04   -4.23e+04\n",
       "model_ Grand C-MAX           -4.765e+04    575.219    -82.840      0.000   -4.88e+04   -4.65e+04\n",
       "model_ Grand Tourneo Connect -4.521e+04    745.996    -60.598      0.000   -4.67e+04   -4.37e+04\n",
       "model_ KA                    -4.818e+04    576.658    -83.549      0.000   -4.93e+04    -4.7e+04\n",
       "model_ Ka+                   -5.299e+04    548.142    -96.663      0.000   -5.41e+04   -5.19e+04\n",
       "model_ Kuga                  -4.683e+04    526.058    -89.016      0.000   -4.79e+04   -4.58e+04\n",
       "model_ M Class               -3.937e+04    658.451    -59.786      0.000   -4.07e+04   -3.81e+04\n",
       "model_ M2                    -4.691e+04    990.283    -47.371      0.000   -4.89e+04    -4.5e+04\n",
       "model_ M3                    -4.465e+04    877.714    -50.865      0.000   -4.64e+04   -4.29e+04\n",
       "model_ M4                    -4.389e+04    548.797    -79.982      0.000    -4.5e+04   -4.28e+04\n",
       "model_ M5                     -3.69e+04    874.967    -42.169      0.000   -3.86e+04   -3.52e+04\n",
       "model_ M6                    -5.054e+04   1514.542    -33.371      0.000   -5.35e+04   -4.76e+04\n",
       "model_ Mondeo                -4.672e+04    554.394    -84.270      0.000   -4.78e+04   -4.56e+04\n",
       "model_ Mustang               -5.162e+04    775.523    -66.558      0.000   -5.31e+04   -5.01e+04\n",
       "model_ Puma                   -4.24e+04    698.361    -60.710      0.000   -4.38e+04    -4.1e+04\n",
       "model_ Q2                    -4.843e+04    460.901   -105.079      0.000   -4.93e+04   -4.75e+04\n",
       "model_ Q3                    -4.678e+04    446.969   -104.669      0.000   -4.77e+04   -4.59e+04\n",
       "model_ Q5                    -4.244e+04    456.383    -92.983      0.000   -4.33e+04   -4.15e+04\n",
       "model_ Q7                    -3.518e+04    488.152    -72.073      0.000   -3.61e+04   -3.42e+04\n",
       "model_ Q8                    -2.415e+04    668.182    -36.138      0.000   -2.55e+04   -2.28e+04\n",
       "model_ R Class               -4.145e+04   2964.942    -13.979      0.000   -4.73e+04   -3.56e+04\n",
       "model_ R8                     5845.0742    903.615      6.469      0.000    4073.981    7616.168\n",
       "model_ RS3                   -4.081e+04    841.442    -48.502      0.000   -4.25e+04   -3.92e+04\n",
       "model_ RS4                   -3.042e+04    863.696    -35.215      0.000   -3.21e+04   -2.87e+04\n",
       "model_ RS5                   -3.136e+04    885.910    -35.396      0.000   -3.31e+04   -2.96e+04\n",
       "model_ RS6                   -2.658e+04    797.459    -33.328      0.000   -2.81e+04    -2.5e+04\n",
       "model_ RS7                   -3.756e+04   4163.423     -9.020      0.000   -4.57e+04   -2.94e+04\n",
       "model_ Ranger                 -4.46e+04   4152.577    -10.741      0.000   -5.27e+04   -3.65e+04\n",
       "model_ S Class               -2.861e+04    562.391    -50.872      0.000   -2.97e+04   -2.75e+04\n",
       "model_ S-MAX                 -4.395e+04    571.283    -76.937      0.000   -4.51e+04   -4.28e+04\n",
       "model_ S3                    -4.548e+04   1064.212    -42.732      0.000   -4.76e+04   -4.34e+04\n",
       "model_ S4                    -4.022e+04   1266.592    -31.751      0.000   -4.27e+04   -3.77e+04\n",
       "model_ S5                    -5.032e+04   2425.116    -20.749      0.000   -5.51e+04   -4.56e+04\n",
       "model_ S8                    -4.681e+04   2116.011    -22.122      0.000    -5.1e+04   -4.27e+04\n",
       "model_ SL CLASS              -3.995e+04    541.522    -73.773      0.000    -4.1e+04   -3.89e+04\n",
       "model_ SLK                   -4.195e+04    610.762    -68.686      0.000   -4.31e+04   -4.08e+04\n",
       "model_ SQ5                   -3.997e+04   1123.989    -35.557      0.000   -4.22e+04   -3.78e+04\n",
       "model_ SQ7                   -3.294e+04   1529.543    -21.537      0.000   -3.59e+04   -2.99e+04\n",
       "model_ Streetka              -3.537e+04   2945.119    -12.008      0.000   -4.11e+04   -2.96e+04\n",
       "model_ TT                    -4.698e+04    483.804    -97.113      0.000   -4.79e+04    -4.6e+04\n",
       "model_ Tourneo Connect       -4.598e+04    883.148    -52.067      0.000   -4.77e+04   -4.43e+04\n",
       "model_ Tourneo Custom        -4.507e+04    723.076    -62.329      0.000   -4.65e+04   -4.37e+04\n",
       "model_ Transit Tourneo       -4.711e+04   4146.272    -11.363      0.000   -5.52e+04    -3.9e+04\n",
       "model_ V Class               -3.656e+04    564.823    -64.721      0.000   -3.77e+04   -3.54e+04\n",
       "model_ X-CLASS               -4.294e+04    668.416    -64.241      0.000   -4.42e+04   -4.16e+04\n",
       "model_ X1                    -5.386e+04    422.807   -127.384      0.000   -5.47e+04    -5.3e+04\n",
       "model_ X2                     -5.26e+04    472.680   -111.271      0.000   -5.35e+04   -5.17e+04\n",
       "model_ X3                    -4.876e+04    438.437   -111.215      0.000   -4.96e+04   -4.79e+04\n",
       "model_ X4                    -4.816e+04    510.642    -94.310      0.000   -4.92e+04   -4.72e+04\n",
       "model_ X5                    -4.262e+04    449.705    -94.780      0.000   -4.35e+04   -4.17e+04\n",
       "model_ X6                    -4.043e+04    570.779    -70.833      0.000   -4.15e+04   -3.93e+04\n",
       "model_ X7                    -1.973e+04    695.923    -28.344      0.000   -2.11e+04   -1.84e+04\n",
       "model_ Z3                    -3.544e+04   1577.390    -22.469      0.000   -3.85e+04   -3.24e+04\n",
       "model_ Z4                     -5.23e+04    559.874    -93.405      0.000   -5.34e+04   -5.12e+04\n",
       "model_ i3                     1.557e+04   2675.358      5.819      0.000    1.03e+04    2.08e+04\n",
       "model_ i8                    -1.462e+04   1082.780    -13.505      0.000   -1.67e+04   -1.25e+04\n",
       "model_180                    -4.255e+04   4170.356    -10.204      0.000   -5.07e+04   -3.44e+04\n",
       "model_CLA200                 -4.674e+04   4172.810    -11.200      0.000   -5.49e+04   -3.86e+04\n",
       "model_E220                   -4.676e+04   4171.985    -11.208      0.000   -5.49e+04   -3.86e+04\n",
       "model_E230                   -3.598e+04   4169.514     -8.630      0.000   -4.42e+04   -2.78e+04\n",
       "Manufacture_Audi             -1.023e+06   8373.625   -122.147      0.000   -1.04e+06   -1.01e+06\n",
       "Manufacture_BMW              -1.018e+06   8339.604   -122.044      0.000   -1.03e+06      -1e+06\n",
       "Manufacture_Ford             -1.028e+06   8314.308   -123.651      0.000   -1.04e+06   -1.01e+06\n",
       "Manufacture_Mercedes         -1.027e+06   8375.959   -122.635      0.000   -1.04e+06   -1.01e+06\n",
       "==============================================================================\n",
       "Omnibus:                    50781.608   Durbin-Watson:                   1.670\n",
       "Prob(Omnibus):                  0.000   Jarque-Bera (JB):         10274852.031\n",
       "Skew:                           4.200   Prob(JB):                         0.00\n",
       "Kurtosis:                      70.997   Cond. No.                     1.26e+19\n",
       "==============================================================================\n",
       "\n",
       "Warnings:\n",
       "[1] Standard Errors assume that the covariance matrix of the errors is correctly specified.\n",
       "[2] The smallest eigenvalue is 3.5e-25. This might indicate that there are\n",
       "strong multicollinearity problems or that the design matrix is singular.\n",
       "\"\"\""
      ]
     },
     "execution_count": 35,
     "metadata": {},
     "output_type": "execute_result"
    }
   ],
   "source": [
    "X = data1['price']\n",
    "X= data1.drop(['price','car_age'],axis=1)\n",
    "Y= data1['price']\n",
    "OLSmodel = sm.OLS(Y,X)\n",
    "OLSmodelResult = OLSmodel.fit()\n",
    "OLSmodelResult.summary()"
   ]
  },
  {
   "cell_type": "markdown",
   "metadata": {},
   "source": [
    "### Our R square is .85 which seems a good fit where all P-value falls under 0.05 "
   ]
  },
  {
   "cell_type": "markdown",
   "metadata": {},
   "source": [
    "### To predict the price we are using Train Test and split where our size is 70:30"
   ]
  },
  {
   "cell_type": "code",
   "execution_count": 36,
   "metadata": {},
   "outputs": [],
   "source": [
    "x = data1.drop('price', axis=1)\n",
    "y = data1['price']"
   ]
  },
  {
   "cell_type": "code",
   "execution_count": 37,
   "metadata": {},
   "outputs": [],
   "source": [
    "X_train, X_test, y_train, y_test, = train_test_split(X,y,test_size= 0.3)"
   ]
  },
  {
   "cell_type": "code",
   "execution_count": 38,
   "metadata": {},
   "outputs": [
    {
     "data": {
      "text/plain": [
       "(36773, 116)"
      ]
     },
     "execution_count": 38,
     "metadata": {},
     "output_type": "execute_result"
    }
   ],
   "source": [
    "X_train.shape"
   ]
  },
  {
   "cell_type": "code",
   "execution_count": 39,
   "metadata": {},
   "outputs": [
    {
     "data": {
      "text/plain": [
       "(15760, 116)"
      ]
     },
     "execution_count": 39,
     "metadata": {},
     "output_type": "execute_result"
    }
   ],
   "source": [
    "X_test.shape"
   ]
  },
  {
   "cell_type": "code",
   "execution_count": 40,
   "metadata": {},
   "outputs": [
    {
     "data": {
      "text/html": [
       "<div>\n",
       "<style scoped>\n",
       "    .dataframe tbody tr th:only-of-type {\n",
       "        vertical-align: middle;\n",
       "    }\n",
       "\n",
       "    .dataframe tbody tr th {\n",
       "        vertical-align: top;\n",
       "    }\n",
       "\n",
       "    .dataframe thead th {\n",
       "        text-align: right;\n",
       "    }\n",
       "</style>\n",
       "<table border=\"1\" class=\"dataframe\">\n",
       "  <thead>\n",
       "    <tr style=\"text-align: right;\">\n",
       "      <th></th>\n",
       "      <th>year</th>\n",
       "      <th>tax</th>\n",
       "      <th>mpg</th>\n",
       "      <th>engineSize</th>\n",
       "      <th>mileage</th>\n",
       "      <th>transmission_Automatic</th>\n",
       "      <th>transmission_Manual</th>\n",
       "      <th>transmission_Semi-Auto</th>\n",
       "      <th>fuelType_Diesel</th>\n",
       "      <th>fuelType_Electric</th>\n",
       "      <th>...</th>\n",
       "      <th>model_ i3</th>\n",
       "      <th>model_ i8</th>\n",
       "      <th>model_180</th>\n",
       "      <th>model_CLA200</th>\n",
       "      <th>model_E220</th>\n",
       "      <th>model_E230</th>\n",
       "      <th>Manufacture_Audi</th>\n",
       "      <th>Manufacture_BMW</th>\n",
       "      <th>Manufacture_Ford</th>\n",
       "      <th>Manufacture_Mercedes</th>\n",
       "    </tr>\n",
       "  </thead>\n",
       "  <tbody>\n",
       "    <tr>\n",
       "      <th>17517</th>\n",
       "      <td>2019</td>\n",
       "      <td>150</td>\n",
       "      <td>38.2</td>\n",
       "      <td>2.0</td>\n",
       "      <td>12413</td>\n",
       "      <td>0</td>\n",
       "      <td>0</td>\n",
       "      <td>1</td>\n",
       "      <td>1</td>\n",
       "      <td>0</td>\n",
       "      <td>...</td>\n",
       "      <td>0</td>\n",
       "      <td>0</td>\n",
       "      <td>0</td>\n",
       "      <td>0</td>\n",
       "      <td>0</td>\n",
       "      <td>0</td>\n",
       "      <td>1</td>\n",
       "      <td>0</td>\n",
       "      <td>0</td>\n",
       "      <td>0</td>\n",
       "    </tr>\n",
       "    <tr>\n",
       "      <th>6655</th>\n",
       "      <td>2018</td>\n",
       "      <td>145</td>\n",
       "      <td>68.9</td>\n",
       "      <td>1.5</td>\n",
       "      <td>2300</td>\n",
       "      <td>0</td>\n",
       "      <td>1</td>\n",
       "      <td>0</td>\n",
       "      <td>1</td>\n",
       "      <td>0</td>\n",
       "      <td>...</td>\n",
       "      <td>0</td>\n",
       "      <td>0</td>\n",
       "      <td>0</td>\n",
       "      <td>0</td>\n",
       "      <td>0</td>\n",
       "      <td>0</td>\n",
       "      <td>0</td>\n",
       "      <td>0</td>\n",
       "      <td>0</td>\n",
       "      <td>1</td>\n",
       "    </tr>\n",
       "    <tr>\n",
       "      <th>47201</th>\n",
       "      <td>2018</td>\n",
       "      <td>150</td>\n",
       "      <td>65.7</td>\n",
       "      <td>1.0</td>\n",
       "      <td>7256</td>\n",
       "      <td>0</td>\n",
       "      <td>1</td>\n",
       "      <td>0</td>\n",
       "      <td>0</td>\n",
       "      <td>0</td>\n",
       "      <td>...</td>\n",
       "      <td>0</td>\n",
       "      <td>0</td>\n",
       "      <td>0</td>\n",
       "      <td>0</td>\n",
       "      <td>0</td>\n",
       "      <td>0</td>\n",
       "      <td>0</td>\n",
       "      <td>0</td>\n",
       "      <td>1</td>\n",
       "      <td>0</td>\n",
       "    </tr>\n",
       "    <tr>\n",
       "      <th>45990</th>\n",
       "      <td>2017</td>\n",
       "      <td>125</td>\n",
       "      <td>51.4</td>\n",
       "      <td>1.0</td>\n",
       "      <td>14482</td>\n",
       "      <td>0</td>\n",
       "      <td>0</td>\n",
       "      <td>1</td>\n",
       "      <td>0</td>\n",
       "      <td>0</td>\n",
       "      <td>...</td>\n",
       "      <td>0</td>\n",
       "      <td>0</td>\n",
       "      <td>0</td>\n",
       "      <td>0</td>\n",
       "      <td>0</td>\n",
       "      <td>0</td>\n",
       "      <td>0</td>\n",
       "      <td>0</td>\n",
       "      <td>1</td>\n",
       "      <td>0</td>\n",
       "    </tr>\n",
       "    <tr>\n",
       "      <th>51674</th>\n",
       "      <td>2015</td>\n",
       "      <td>0</td>\n",
       "      <td>65.7</td>\n",
       "      <td>1.0</td>\n",
       "      <td>14100</td>\n",
       "      <td>0</td>\n",
       "      <td>1</td>\n",
       "      <td>0</td>\n",
       "      <td>0</td>\n",
       "      <td>0</td>\n",
       "      <td>...</td>\n",
       "      <td>0</td>\n",
       "      <td>0</td>\n",
       "      <td>0</td>\n",
       "      <td>0</td>\n",
       "      <td>0</td>\n",
       "      <td>0</td>\n",
       "      <td>0</td>\n",
       "      <td>0</td>\n",
       "      <td>1</td>\n",
       "      <td>0</td>\n",
       "    </tr>\n",
       "    <tr>\n",
       "      <th>...</th>\n",
       "      <td>...</td>\n",
       "      <td>...</td>\n",
       "      <td>...</td>\n",
       "      <td>...</td>\n",
       "      <td>...</td>\n",
       "      <td>...</td>\n",
       "      <td>...</td>\n",
       "      <td>...</td>\n",
       "      <td>...</td>\n",
       "      <td>...</td>\n",
       "      <td>...</td>\n",
       "      <td>...</td>\n",
       "      <td>...</td>\n",
       "      <td>...</td>\n",
       "      <td>...</td>\n",
       "      <td>...</td>\n",
       "      <td>...</td>\n",
       "      <td>...</td>\n",
       "      <td>...</td>\n",
       "      <td>...</td>\n",
       "      <td>...</td>\n",
       "    </tr>\n",
       "    <tr>\n",
       "      <th>32497</th>\n",
       "      <td>2016</td>\n",
       "      <td>20</td>\n",
       "      <td>68.9</td>\n",
       "      <td>0.0</td>\n",
       "      <td>24528</td>\n",
       "      <td>0</td>\n",
       "      <td>1</td>\n",
       "      <td>0</td>\n",
       "      <td>1</td>\n",
       "      <td>0</td>\n",
       "      <td>...</td>\n",
       "      <td>0</td>\n",
       "      <td>0</td>\n",
       "      <td>0</td>\n",
       "      <td>0</td>\n",
       "      <td>0</td>\n",
       "      <td>0</td>\n",
       "      <td>0</td>\n",
       "      <td>1</td>\n",
       "      <td>0</td>\n",
       "      <td>0</td>\n",
       "    </tr>\n",
       "    <tr>\n",
       "      <th>49345</th>\n",
       "      <td>2017</td>\n",
       "      <td>125</td>\n",
       "      <td>57.7</td>\n",
       "      <td>2.0</td>\n",
       "      <td>26476</td>\n",
       "      <td>1</td>\n",
       "      <td>0</td>\n",
       "      <td>0</td>\n",
       "      <td>1</td>\n",
       "      <td>0</td>\n",
       "      <td>...</td>\n",
       "      <td>0</td>\n",
       "      <td>0</td>\n",
       "      <td>0</td>\n",
       "      <td>0</td>\n",
       "      <td>0</td>\n",
       "      <td>0</td>\n",
       "      <td>0</td>\n",
       "      <td>0</td>\n",
       "      <td>1</td>\n",
       "      <td>0</td>\n",
       "    </tr>\n",
       "    <tr>\n",
       "      <th>22069</th>\n",
       "      <td>2015</td>\n",
       "      <td>0</td>\n",
       "      <td>80.7</td>\n",
       "      <td>1.6</td>\n",
       "      <td>44821</td>\n",
       "      <td>0</td>\n",
       "      <td>1</td>\n",
       "      <td>0</td>\n",
       "      <td>1</td>\n",
       "      <td>0</td>\n",
       "      <td>...</td>\n",
       "      <td>0</td>\n",
       "      <td>0</td>\n",
       "      <td>0</td>\n",
       "      <td>0</td>\n",
       "      <td>0</td>\n",
       "      <td>0</td>\n",
       "      <td>1</td>\n",
       "      <td>0</td>\n",
       "      <td>0</td>\n",
       "      <td>0</td>\n",
       "    </tr>\n",
       "    <tr>\n",
       "      <th>10034</th>\n",
       "      <td>2012</td>\n",
       "      <td>200</td>\n",
       "      <td>42.2</td>\n",
       "      <td>1.8</td>\n",
       "      <td>59512</td>\n",
       "      <td>0</td>\n",
       "      <td>1</td>\n",
       "      <td>0</td>\n",
       "      <td>0</td>\n",
       "      <td>0</td>\n",
       "      <td>...</td>\n",
       "      <td>0</td>\n",
       "      <td>0</td>\n",
       "      <td>0</td>\n",
       "      <td>0</td>\n",
       "      <td>0</td>\n",
       "      <td>0</td>\n",
       "      <td>0</td>\n",
       "      <td>0</td>\n",
       "      <td>0</td>\n",
       "      <td>1</td>\n",
       "    </tr>\n",
       "    <tr>\n",
       "      <th>21646</th>\n",
       "      <td>2019</td>\n",
       "      <td>145</td>\n",
       "      <td>38.2</td>\n",
       "      <td>2.0</td>\n",
       "      <td>6124</td>\n",
       "      <td>1</td>\n",
       "      <td>0</td>\n",
       "      <td>0</td>\n",
       "      <td>1</td>\n",
       "      <td>0</td>\n",
       "      <td>...</td>\n",
       "      <td>0</td>\n",
       "      <td>0</td>\n",
       "      <td>0</td>\n",
       "      <td>0</td>\n",
       "      <td>0</td>\n",
       "      <td>0</td>\n",
       "      <td>1</td>\n",
       "      <td>0</td>\n",
       "      <td>0</td>\n",
       "      <td>0</td>\n",
       "    </tr>\n",
       "  </tbody>\n",
       "</table>\n",
       "<p>36773 rows × 116 columns</p>\n",
       "</div>"
      ],
      "text/plain": [
       "       year  tax   mpg  engineSize  mileage  transmission_Automatic  \\\n",
       "17517  2019  150  38.2         2.0    12413                       0   \n",
       "6655   2018  145  68.9         1.5     2300                       0   \n",
       "47201  2018  150  65.7         1.0     7256                       0   \n",
       "45990  2017  125  51.4         1.0    14482                       0   \n",
       "51674  2015    0  65.7         1.0    14100                       0   \n",
       "...     ...  ...   ...         ...      ...                     ...   \n",
       "32497  2016   20  68.9         0.0    24528                       0   \n",
       "49345  2017  125  57.7         2.0    26476                       1   \n",
       "22069  2015    0  80.7         1.6    44821                       0   \n",
       "10034  2012  200  42.2         1.8    59512                       0   \n",
       "21646  2019  145  38.2         2.0     6124                       1   \n",
       "\n",
       "       transmission_Manual  transmission_Semi-Auto  fuelType_Diesel  \\\n",
       "17517                    0                       1                1   \n",
       "6655                     1                       0                1   \n",
       "47201                    1                       0                0   \n",
       "45990                    0                       1                0   \n",
       "51674                    1                       0                0   \n",
       "...                    ...                     ...              ...   \n",
       "32497                    1                       0                1   \n",
       "49345                    0                       0                1   \n",
       "22069                    1                       0                1   \n",
       "10034                    1                       0                0   \n",
       "21646                    0                       0                1   \n",
       "\n",
       "       fuelType_Electric  ...  model_ i3  model_ i8  model_180  model_CLA200  \\\n",
       "17517                  0  ...          0          0          0             0   \n",
       "6655                   0  ...          0          0          0             0   \n",
       "47201                  0  ...          0          0          0             0   \n",
       "45990                  0  ...          0          0          0             0   \n",
       "51674                  0  ...          0          0          0             0   \n",
       "...                  ...  ...        ...        ...        ...           ...   \n",
       "32497                  0  ...          0          0          0             0   \n",
       "49345                  0  ...          0          0          0             0   \n",
       "22069                  0  ...          0          0          0             0   \n",
       "10034                  0  ...          0          0          0             0   \n",
       "21646                  0  ...          0          0          0             0   \n",
       "\n",
       "       model_E220  model_E230  Manufacture_Audi  Manufacture_BMW  \\\n",
       "17517           0           0                 1                0   \n",
       "6655            0           0                 0                0   \n",
       "47201           0           0                 0                0   \n",
       "45990           0           0                 0                0   \n",
       "51674           0           0                 0                0   \n",
       "...           ...         ...               ...              ...   \n",
       "32497           0           0                 0                1   \n",
       "49345           0           0                 0                0   \n",
       "22069           0           0                 1                0   \n",
       "10034           0           0                 0                0   \n",
       "21646           0           0                 1                0   \n",
       "\n",
       "       Manufacture_Ford  Manufacture_Mercedes  \n",
       "17517                 0                     0  \n",
       "6655                  0                     1  \n",
       "47201                 1                     0  \n",
       "45990                 1                     0  \n",
       "51674                 1                     0  \n",
       "...                 ...                   ...  \n",
       "32497                 0                     0  \n",
       "49345                 1                     0  \n",
       "22069                 0                     0  \n",
       "10034                 0                     1  \n",
       "21646                 0                     0  \n",
       "\n",
       "[36773 rows x 116 columns]"
      ]
     },
     "execution_count": 40,
     "metadata": {},
     "output_type": "execute_result"
    }
   ],
   "source": [
    "X_train"
   ]
  },
  {
   "cell_type": "code",
   "execution_count": 41,
   "metadata": {},
   "outputs": [],
   "source": [
    "lr=LinearRegression()"
   ]
  },
  {
   "cell_type": "code",
   "execution_count": 42,
   "metadata": {},
   "outputs": [
    {
     "data": {
      "text/plain": [
       "LinearRegression()"
      ]
     },
     "execution_count": 42,
     "metadata": {},
     "output_type": "execute_result"
    }
   ],
   "source": [
    "lr.fit(X_train, y_train)"
   ]
  },
  {
   "cell_type": "code",
   "execution_count": 43,
   "metadata": {},
   "outputs": [
    {
     "data": {
      "text/plain": [
       "array([20615.61112164, 43533.20558458, 17762.68269197, ...,\n",
       "       19813.05984705, 24123.83203646, 11609.62998422])"
      ]
     },
     "execution_count": 43,
     "metadata": {},
     "output_type": "execute_result"
    }
   ],
   "source": [
    "lr.predict(X_test)"
   ]
  },
  {
   "cell_type": "code",
   "execution_count": 44,
   "metadata": {},
   "outputs": [
    {
     "name": "stdout",
     "output_type": "stream",
     "text": [
      "0.8608012273728255\n"
     ]
    }
   ],
   "source": [
    "print(lr.score(X_test, y_test))"
   ]
  },
  {
   "cell_type": "markdown",
   "metadata": {},
   "source": [
    "### After  Training and  testing our data  we recieved a Accuracy Score of 86% "
   ]
  },
  {
   "cell_type": "markdown",
   "metadata": {},
   "source": [
    "## Cross Validation "
   ]
  },
  {
   "cell_type": "code",
   "execution_count": 45,
   "metadata": {},
   "outputs": [
    {
     "data": {
      "text/plain": [
       "array([0.64548268, 0.82474994, 0.82929836, 0.77090031, 0.56292331])"
      ]
     },
     "execution_count": 45,
     "metadata": {},
     "output_type": "execute_result"
    }
   ],
   "source": [
    "cvsr = cross_val_score(LinearRegression(), X,y,cv=5)\n",
    "cvsr"
   ]
  },
  {
   "cell_type": "code",
   "execution_count": 46,
   "metadata": {},
   "outputs": [
    {
     "data": {
      "text/plain": [
       "0.7266709188359354"
      ]
     },
     "execution_count": 46,
     "metadata": {},
     "output_type": "execute_result"
    }
   ],
   "source": [
    "np.mean(cvsr)"
   ]
  },
  {
   "cell_type": "markdown",
   "metadata": {},
   "source": [
    "### We use cross validation To estimate the accuracy of our model on unseen data where we are training the model from 5 folds \n",
    "\n"
   ]
  },
  {
   "cell_type": "code",
   "execution_count": null,
   "metadata": {},
   "outputs": [],
   "source": []
  }
 ],
 "metadata": {
  "kernelspec": {
   "display_name": "Python 3",
   "language": "python",
   "name": "python3"
  },
  "language_info": {
   "codemirror_mode": {
    "name": "ipython",
    "version": 3
   },
   "file_extension": ".py",
   "mimetype": "text/x-python",
   "name": "python",
   "nbconvert_exporter": "python",
   "pygments_lexer": "ipython3",
   "version": "3.8.3"
  }
 },
 "nbformat": 4,
 "nbformat_minor": 4
}
